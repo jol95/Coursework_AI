{
  "cells": [
    {
      "cell_type": "markdown",
      "metadata": {
        "id": "zlsnbei3y6Kk"
      },
      "source": [
        "# Neural Networks and Learning Machines\n",
        "\n",
        "## ANN Exercise 2 - Natural Language Processing (NLP)\n",
        "\n",
        "Natural Language Processing (NLP) is a set of techniques and algorithms that use computers for analyzing natural human language.  NLP can be used to solve a variety of problems, for example:\n",
        "\n",
        "* Subject Matter Identification - What are the topics, people, companies or places discussed in this text?\n",
        "* Sentiment Analysis - Does this text convey a positive, negative or neutral feeling about an entity or subject matter?\n",
        "* Machine Translation - Convert the input from one language to another, for example, from English to French\n",
        "* Text-to-Speech - Convert the spoken input into its written form\n",
        "* Understanding and Interpretation - What information will answer a specific question?\n",
        "\n",
        "This exercise will teach you the basics of NLP using neural networks, focusing on text classification.\n",
        "First you will learn a few common ways to encode/embed text as vectors/matrices such that a neural network can use it as an input.\n",
        "Then you'll use those embeddings in order to embed a dataset of texts and classify them.\n",
        "Finally you'll learn how to use some more advanced neural networks models in order to generate text.\n",
        "\n",
        "Before you get started you'll also need to download the file 'wiki.simple.vec' from Canvas, which contains word embeddings that will be used in this exercise. Do **NOT** include 'wiki.simple.vec' in your submission of this exercise.\n",
        "\n",
        "### Literature\n",
        "\n",
        "The following sections in the [course book](https://www.deeplearningbook.org/) are relevant for this exercise.\n",
        "* 12.4 - Natural Language Processing\n",
        "   - (more subsection details as far from every subsection of NLP is useful to the course)\n",
        "\n",
        "Optional reading for more details on RNNs:\n",
        "* 10 - Sequence Modeling: Recurrentand Recursive Nets"
      ]
    },
    {
      "cell_type": "code",
      "execution_count": null,
      "metadata": {
        "colab": {
          "base_uri": "https://localhost:8080/"
        },
        "id": "BXmS0qjqy6Kq",
        "outputId": "a5b78ddf-2670-435e-8e81-a3364a26ff22"
      },
      "outputs": [
        {
          "output_type": "stream",
          "name": "stdout",
          "text": [
            "Requirement already satisfied: torchtext==0.8.1 in /usr/local/lib/python3.7/dist-packages (0.8.1)\n",
            "Requirement already satisfied: requests in /usr/local/lib/python3.7/dist-packages (from torchtext==0.8.1) (2.23.0)\n",
            "Requirement already satisfied: torch==1.7.1 in /usr/local/lib/python3.7/dist-packages (from torchtext==0.8.1) (1.7.1)\n",
            "Requirement already satisfied: tqdm in /usr/local/lib/python3.7/dist-packages (from torchtext==0.8.1) (4.62.3)\n",
            "Requirement already satisfied: numpy in /usr/local/lib/python3.7/dist-packages (from torchtext==0.8.1) (1.19.5)\n",
            "Requirement already satisfied: typing-extensions in /usr/local/lib/python3.7/dist-packages (from torch==1.7.1->torchtext==0.8.1) (3.10.0.2)\n",
            "Requirement already satisfied: chardet<4,>=3.0.2 in /usr/local/lib/python3.7/dist-packages (from requests->torchtext==0.8.1) (3.0.4)\n",
            "Requirement already satisfied: urllib3!=1.25.0,!=1.25.1,<1.26,>=1.21.1 in /usr/local/lib/python3.7/dist-packages (from requests->torchtext==0.8.1) (1.24.3)\n",
            "Requirement already satisfied: idna<3,>=2.5 in /usr/local/lib/python3.7/dist-packages (from requests->torchtext==0.8.1) (2.10)\n",
            "Requirement already satisfied: certifi>=2017.4.17 in /usr/local/lib/python3.7/dist-packages (from requests->torchtext==0.8.1) (2021.10.8)\n",
            "Requirement already satisfied: torchvision==0.8.2 in /usr/local/lib/python3.7/dist-packages (0.8.2)\n",
            "Requirement already satisfied: pillow>=4.1.1 in /usr/local/lib/python3.7/dist-packages (from torchvision==0.8.2) (7.1.2)\n",
            "Requirement already satisfied: torch==1.7.1 in /usr/local/lib/python3.7/dist-packages (from torchvision==0.8.2) (1.7.1)\n",
            "Requirement already satisfied: numpy in /usr/local/lib/python3.7/dist-packages (from torchvision==0.8.2) (1.19.5)\n",
            "Requirement already satisfied: typing-extensions in /usr/local/lib/python3.7/dist-packages (from torch==1.7.1->torchvision==0.8.2) (3.10.0.2)\n"
          ]
        }
      ],
      "source": [
        "!pip install torchtext==0.8.1\n",
        "!pip install torchvision==0.8.2\n",
        "import gensim\n",
        "import torch\n",
        "import torch.nn as nn\n",
        "import torch.nn.functional as F\n",
        "import torch.optim as optim\n",
        "from torch.utils.data import DataLoader\n",
        "import torchvision\n",
        "from torchvision import datasets, transforms\n",
        "from torchtext.datasets import AG_NEWS\n",
        "import torchtext\n",
        "import matplotlib.pyplot as plt\n",
        "import numpy\n",
        "import random"
      ]
    },
    {
      "cell_type": "markdown",
      "metadata": {
        "id": "td1BQCbNy6Ks"
      },
      "source": [
        "## 1. Turning sentences into matrices\n",
        "\n",
        "As you know a neural network can only process numbers, so anything we want to process with a neural networks needs to be encoded (embedded) into number, aka vectors.\n",
        "We've technically already done this for images in exercise 0 and ANN1 where we encoded the images of handwritten digits as numbers representing the grayscale value of each pixel.\n",
        "For images this process was intuitive as we're already used to representing pixels as numbers, but how do you do this for text?<img src=\"attachment:image.png\" width=\"600\">\n",
        "\n",
        "There are many different ways to encode text for neural network applications. You can replace each letter by their position in the alphabet, you can replace each word by their position in some dictionary, you can create complex vectors that distribute words in some N-dimensional space, etc, etc.\n",
        "Most encodings of text is done on the word level, since we know that we want to use words anyways and learning to create words from letters turns out to be quite challenging ('runes' and 'nurse' contain the exact same letters but mean very different things).\n",
        "\n",
        "In this exercise we will learn to create and use two types of embeddings:\n",
        "* Bag of Words (BoW)\n",
        "* Word2Vec (Skip-gram)\n",
        "\n",
        "We will also learn about another Word2Vec implementation called Continuous Bag of Words (CBoW), and you may implement this as well as an optional task.\n",
        "\n",
        "Finally we will also learn to use pretrained embeddings, where you simply use embeddings created by someone else.\n",
        "\n",
        "Before we can start with each embedding, we have to discuss the so-called preprocessing pipeline.\n",
        "The preprocessing pipeline is simply all the step we take from raw data (text) to the input of our neural networks.\n",
        "There are many ways to form such a pipeline, with many different optional steps to add on, but generally it consists of some or all of the following parts:\n",
        "* Cleaning - Removing unnecessary/unimportant parts of the text (like making all letters lowercase, removing special characters, etc)\n",
        "   - Example: \"Does Michael like 99 cats?\" $\\rightarrow$ \"does michael like 99 cats\"\n",
        "* Tokenization - Splitting the text into its constituent parts (like words, letters, and/or symbols depending on what embedding you use)\n",
        "   - Example: \"does michael like 99 cats\" $\\rightarrow$ \\[\"does\", \"michael\", \"like\", \"99\", \"cats\"\\]\n",
        "* Stemming/lemmatization - Switch all words into their baseform (like removing plural, changing verbs to their root form, etc)\n",
        "   - Example: \\[\"does*\", \"michael\", \"like\", \"99\", \"cats\"\\] $\\rightarrow$ \\[\"do\", \"michael\", \"like\", \"99\", \"cat\"\\]\n",
        "* Replace rare/special tokens - Switch some rare (only shows up once or twice in the dataset) or special (names, numbers, etc) tokens for tags\n",
        "   - Example: \\[\"do\", \"michael\", \"like\", \"99\", \"cat\"\\] $\\rightarrow$ \\[\"do\", \"\\<NAME\\>\", \"like\", \"\\<NUMBER\\>\", \"cat\"\\]\n",
        "* Indexing - Create a token to number mapping and replace each token by its number\n",
        "   - Example: \\[\"do\", \"\\<NAME\\>\", \"like\", \"\\<NUMBER\\>\", \"cat\"\\] $\\rightarrow$ \\[454, 3, 872, 2, 234\\]\n",
        "* Embedding - Use an embedder to get a vector to use as input to the machine learning model.\n",
        "\n",
        "This might seem overwhelming but there are a lot of toolkits that will help you with these steps.\n",
        "This might also seem like we're getting rid of a lot of useful data, and that's true but often having well-formatted data is better than having more data.\n",
        "In the end it depends from problem to problem which preprocessing steps are best.\n",
        "For this exercise you will only need to think of tokenizing, indexing, and embedding.\n",
        "The AG News dataset have already been tokenized and indexed, but you will need to create a tokeizer and indexer for the \"cat on the mat\" dataset.\n",
        "\n",
        "### Datasets\n",
        "\n",
        "In this exercise we will use two text datasets the \"cat on the mat\"-dataset and the [AG News dataset](https://www.kaggle.com/amananandrai/ag-news-classification-dataset). The code for creating/downloading both datasets are provided below. The former dataset is a small dummy dataset we will use to visulize and understand the methods. AG News is a large dataset of excerpts from news articles from a few different topics that can be used to train, for example, a news classifier."
      ]
    },
    {
      "cell_type": "markdown",
      "metadata": {
        "id": "5jeG20Vny6Kt"
      },
      "source": [
        "#### \"Cat on the mat\"-dataset"
      ]
    },
    {
      "cell_type": "code",
      "execution_count": null,
      "metadata": {
        "colab": {
          "base_uri": "https://localhost:8080/"
        },
        "id": "cagVskD_y6Ku",
        "outputId": "85b5ff38-0907-40b1-d549-ea07eb6cc79b"
      },
      "outputs": [
        {
          "output_type": "stream",
          "name": "stdout",
          "text": [
            "There are 128 sentences in the corpus, with a vocabulary of 18 words\n",
            "The first sentence in the corpus is \"the cat sat on the mat\"\n"
          ]
        }
      ],
      "source": [
        "import itertools\n",
        "\n",
        "animals = ['cat','dog','goat','elephant','eagle','zebra','rhino', 'hippo']\n",
        "actions = ['sat','stood','jumped','slept']\n",
        "furniture = ['mat','rug','sofa','bed']\n",
        "\n",
        "# Generate all combinations of animal, action and furniture\n",
        "animal_corpus = [f'the {x[0]} {x[1]} on the {x[2]}' for x in itertools.product(animals, actions, furniture)]\n",
        "vocabulary_size = len(animals) + len(actions) + len(furniture) + 2\n",
        "\n",
        "print(f'There are {len(animal_corpus)} sentences in the corpus, with a vocabulary of {vocabulary_size} words')\n",
        "print(f'The first sentence in the corpus is \"{animal_corpus[0]}\"')\n"
      ]
    },
    {
      "cell_type": "markdown",
      "metadata": {
        "id": "IMONhmRhy6Kv"
      },
      "source": [
        "#### AG News dataset"
      ]
    },
    {
      "cell_type": "code",
      "execution_count": null,
      "metadata": {
        "scrolled": true,
        "colab": {
          "base_uri": "https://localhost:8080/"
        },
        "id": "S3qmrz44y6Kv",
        "outputId": "b4cc4149-d7a5-4101-ab8b-cdae315becd1"
      },
      "outputs": [
        {
          "output_type": "stream",
          "name": "stderr",
          "text": [
            "120000lines [00:05, 23025.19lines/s]\n",
            "120000lines [00:10, 11460.04lines/s]\n",
            "7600lines [00:00, 11593.54lines/s]\n"
          ]
        }
      ],
      "source": [
        "## Download,tokenize, and index the AG News dataset\n",
        "# This is done in a separate cell as indexing takes some time\n",
        "\n",
        "ag_train, ag_test = AG_NEWS(ngrams=1, vocab=None, root='data')"
      ]
    },
    {
      "cell_type": "code",
      "execution_count": null,
      "metadata": {
        "scrolled": true,
        "colab": {
          "base_uri": "https://localhost:8080/"
        },
        "id": "99u8eDK_y6Kw",
        "outputId": "04b5f62e-ebc0-4f70-a7d7-9a99b276ebce"
      },
      "outputs": [
        {
          "output_type": "stream",
          "name": "stdout",
          "text": [
            "ag_train contains 120000 labelled text snippets and has a vocabulary size of 95812\n",
            "On index 0, ag_train contains:\n",
            "(2, tensor([  432,   426,     2,  1606, 14839,   114,    67,     3,   849,    14,\n",
            "           28,    15,    28,    16, 50726,     4,   432,   375,    17,    10,\n",
            "        67508,     7, 52259,     4,    43,  4010,   784,   326,     2]))\n",
            "which has the label 2 that translates into \"Business\" and the text snippet itself translates into:\n",
            "wall st . bears claw back into the black ( reuters ) reuters - short-sellers , wall street ' s dwindling\\band of ultra-cynics , are seeing green again .\n"
          ]
        }
      ],
      "source": [
        "# Our labels are numbers, here's what type of article they represent\n",
        "ag_labels = {\n",
        "    0 : 'World',\n",
        "    1 : 'Sports',\n",
        "    2 : 'Business',\n",
        "    3 : 'Sci/Tec'\n",
        "}\n",
        "\n",
        "# vocab is a class that will give us the index for any given word/token (vocab['hi'] = <some number>)\n",
        "vocab = ag_train.get_vocab()\n",
        "\n",
        "# nr2word is a list that contains the actual tokens for a given index (nr2word[5678] = <some word/token>)\n",
        "nr2word = vocab.itos\n",
        "\n",
        "# Let's make a function that takes an entire tensor and returns the string version of that tensor\n",
        "def tensor2text(tensor):\n",
        "    return ' '.join([nr2word[index] for index in tensor])\n",
        "\n",
        "# And a function to turn text into the indexed version (though it won't work with special characters)\n",
        "def text2tensor(text):\n",
        "    tensor = torch.Tensor([vocab[token] for token in text.split(' ')])\n",
        "    return tensor.int()\n",
        "\n",
        "# And let's see what the dataset actually contains\n",
        "ag_train_len = len(ag_train) #Get the number of entries in the AG_NEWS dataset\n",
        "\n",
        "print(\n",
        "    f'ag_train contains {len(ag_train)} labelled text snippets '\n",
        "    f'and has a vocabulary size of {len(vocab)}\\n'\n",
        "    f'On index 0, ag_train contains:\\n{ag_train[0]}\\n'\n",
        "    f'which has the label {ag_train[0][0]} that translates into \"{ag_labels[ag_train[0][0]]}\" '\n",
        "    f'and the text snippet itself translates into:\\n{tensor2text(ag_train[0][1])}'\n",
        ")"
      ]
    },
    {
      "cell_type": "markdown",
      "metadata": {
        "id": "wQ3TQnMZy6Kx"
      },
      "source": [
        "## Tokenizing and Indexing\n",
        "This new corpus of texts needs to be tokenized and indexed before we can start using it.\n",
        "The tokenizer only needs to be able to handle this simple dataset, so it can be fairly simple.\n",
        "\n",
        "**Exercise 1.1:** Write a tokenizer and an vocabulary class with a function that will give you the index of a token, and a function that will give you the token at a certain index.\n"
      ]
    },
    {
      "cell_type": "code",
      "execution_count": null,
      "metadata": {
        "id": "YRx1kwD3y6Kx"
      },
      "outputs": [],
      "source": [
        "def simple_tokenizer(text):\n",
        "    '''\n",
        "    Takes a text and returns a list of the individual words\n",
        "    Args:\n",
        "        text (str): The text to tokenize\n",
        "    Returns ([str]): A list of individual words\n",
        "    '''\n",
        "    ## WRITE A TOKENIZER (Hint: use the 'split' function)\n",
        "    return text.split(\" \")\n",
        "\n",
        "class SimpleVocabulary():\n",
        "\n",
        "    def __init__(self, corpus):\n",
        "        '''\n",
        "        Takes a corpus, tokenizes it, and sets the internal variables needed\n",
        "        to return the index of any given word (and what word has a given index)\n",
        "        Args:\n",
        "            corpus ([str]): The corpus as a list of non-tokenized texts\n",
        "        '''\n",
        "        ## WRITE A FUNCTION TO INITIALIZE THE VOCABULARY\n",
        "        # HINT: Create a dictionary that contains the index for each unique word and antother to contain the word for a given index\n",
        "        # HINT: Each new, previously unseen token from the tokenized corpus, should be entered into the dictionaries\n",
        "\n",
        "\n",
        "        current_index = 0\n",
        "        self.token2index = {}\n",
        "        self.index2token = []\n",
        "        for text in corpus:\n",
        "            for word in simple_tokenizer(text) :\n",
        "                if self.token2index.get(word)==None:\n",
        "                    self.token2index[word]=current_index\n",
        "                    self.index2token.append(word)\n",
        "                    current_index += 1\n",
        "\n",
        "    def get_index(self, token):\n",
        "        '''\n",
        "        Takes a token and returns the index of that token\n",
        "        Args:\n",
        "            token (str): A token\n",
        "        Returns (int): The index of the given token\n",
        "        '''\n",
        "        ## WRITE A FUNCTION THAT RETURNS THE INDEX OF A GIVEN TOKEN\n",
        "        #return ...\n",
        "        return self.token2index[token]\n",
        "\n",
        "\n",
        "    def get_token(self, index):\n",
        "        '''\n",
        "        Takes an index and returns the token that index represents\n",
        "        Args:\n",
        "            index (int): An index\n",
        "        Returns (str): The token that the given index represents\n",
        "        '''\n",
        "        ## WRITE A FUNCTION THAT RETURNS THE TOKEN OF A GIVEN INDEX\n",
        "        #return ...\n",
        "        return self.index2token[index]\n",
        "\n",
        "\n",
        "    def __len__(self):\n",
        "        '''\n",
        "        Returns (int): The number of words in the vocabulary\n",
        "        '''\n",
        "        ## WRITE A FUNCTION THAT RETURNS THE LENGTH OF THE VOCABULARY\n",
        "        #return ...\n",
        "        return len(self.index2token)\n",
        "\n",
        "def index_sequence(sequence, vocabulary):\n",
        "    '''\n",
        "    Takes a tokenized text and a vocabulary and returns an indexed sequence\n",
        "    Args:\n",
        "        sequence ([str]): A list of individual tokens\n",
        "    Returns ([int]): A list of indexes\n",
        "    '''\n",
        "\n",
        "    return [vocabulary.get_index(token) for token in sequence]\n",
        ""
      ]
    },
    {
      "cell_type": "markdown",
      "metadata": {
        "id": "4NHyF1Ayy6Ky"
      },
      "source": [
        "**Check your solution**: The code cell below will try to tokenize and index a few sentences"
      ]
    },
    {
      "cell_type": "code",
      "execution_count": null,
      "metadata": {
        "colab": {
          "base_uri": "https://localhost:8080/"
        },
        "id": "h1Ci82VLy6Ky",
        "outputId": "990681be-85ce-4880-f063-845d212ccf4a"
      },
      "outputs": [
        {
          "output_type": "stream",
          "name": "stdout",
          "text": [
            "['the', 'cat', 'stood', 'on', 'the', 'mat']\n",
            "[0, 1, 8, 3, 0, 4]\n",
            "simple_tokenizer and SimpleVocabulary seems to be properly implemented!\n"
          ]
        }
      ],
      "source": [
        "animal_vocab = SimpleVocabulary(animal_corpus)\n",
        "test_sequence = 'the cat stood on the mat'\n",
        "tokenized_sequence = simple_tokenizer(test_sequence)\n",
        "print(tokenized_sequence)\n",
        "indexed_sequence = index_sequence(tokenized_sequence, animal_vocab)\n",
        "print(indexed_sequence)\n",
        "assert len(tokenized_sequence) == 6, 'The tokenized sequence should contain all words of the original sequence'\n",
        "assert len(tokenized_sequence) == len(indexed_sequence), 'The indexed sequence should be as long as the tokenized sequence'\n",
        "assert indexed_sequence[0] == indexed_sequence[4], 'The index of the same word should be the same'\n",
        "assert len(animal_vocab) >= 18, 'There should be at least 18 words in the vocabulary (more if you have a out-of-vocabulary token/index)'\n",
        "print('simple_tokenizer and SimpleVocabulary seems to be properly implemented!')"
      ]
    },
    {
      "cell_type": "markdown",
      "metadata": {
        "id": "AO1XhqUgy6Kz"
      },
      "source": [
        "## Bag of Words (BoW)\n",
        "\n",
        "Bag of Words is often seen as the default way to embed text as it is very easy to do.\n",
        "In bag of words each text is represented as a N-dimensional vector, where N is the number of words in the vocabulary.\n",
        "Each word in the vocabulary is given an index and each text is represented by a vector where the index of each word contains the number of occurences of this word in the text.\n",
        "For example if we have the vocabulary \\[\"the\", \"cat\", \"dog\", \"sat\", \"on\", \"mat\", \"sofa\"\\] then the text \"the cat sat on the mat\" would be represented by the BoW vector \\[2, 1, 0, 1, 1, 1, 0\\]\n",
        "Simply put, each text is represented by the by stuffing all of its words into a bag, without care for their order.\n",
        "While getting rid of the order of words might seem distastrous (\"I do like candy\" and \"do I like candy\" doesn't mean the same thing), this simple approach can still be enough to tackle many problems.\n",
        "<img src=\"attachment:image.png\" width=\"600\">\n",
        "\n",
        "**Exercise 1.2**: Make a BoW embedder that takes the tensor (index vector) representation of a text, the length of the vocabulary, and returns a Bag of Words representation. How sparse are the vectors (how many zero/nonzero elements are there)? Why is this the case?"
      ]
    },
    {
      "cell_type": "code",
      "execution_count": null,
      "metadata": {
        "id": "mAr8h5Rey6Kz"
      },
      "outputs": [],
      "source": [
        "def bow_embedder(tensor, vocab_length):\n",
        "    '''\n",
        "    Takes a tensor and a vocabulary and returns the BoW embedding of that tensor\n",
        "    Args:\n",
        "        tensor (torch.Tensor): A tensor of words represented by their index in the vocabulary\n",
        "        vocab_lenght (int): The number of entries in the vocabulary\n",
        "    Returns (torch.Tensor): An tensor containing the BoW embedding of the input tensor\n",
        "    '''\n",
        "    tensor = tensor.long()\n",
        "    embedding = torch.zeros(vocab_length)\n",
        "    for index in tensor:\n",
        "        embedding[index] += 1\n",
        "    return embedding"
      ]
    },
    {
      "cell_type": "markdown",
      "metadata": {
        "id": "KwtuFJA5y6K0"
      },
      "source": [
        "**Check your solution**: The code cell below will try to embed a few sentences using your embedder and will check that the embeddings seem correct."
      ]
    },
    {
      "cell_type": "code",
      "execution_count": null,
      "metadata": {
        "colab": {
          "base_uri": "https://localhost:8080/"
        },
        "id": "mkFBlP9Yy6K0",
        "outputId": "cb489976-83a0-4584-876f-abf2b965da1f"
      },
      "outputs": [
        {
          "output_type": "stream",
          "name": "stdout",
          "text": [
            "The bow_embedder seems to be properly implemented!\n"
          ]
        }
      ],
      "source": [
        "vocab_length = len(vocab)\n",
        "\n",
        "sentence_1 = 'the cat dances well for a little while'\n",
        "sentence_2 = 'for a while the little cat dances well'\n",
        "sentence_3 = 'the dog sits for a while'\n",
        "sentence_4 = 'the cat and the dog'\n",
        "\n",
        "sentence_1_indexed = text2tensor(sentence_1)\n",
        "sentence_2_indexed = text2tensor(sentence_2)\n",
        "sentence_3_indexed = text2tensor(sentence_3)\n",
        "sentence_4_indexed = text2tensor(sentence_4)\n",
        "\n",
        "sentence_1_bow = bow_embedder(sentence_1_indexed, vocab_length)\n",
        "sentence_2_bow = bow_embedder(sentence_2_indexed, vocab_length)\n",
        "sentence_3_bow = bow_embedder(sentence_3_indexed, vocab_length)\n",
        "sentence_4_bow = bow_embedder(sentence_4_indexed, vocab_length)\n",
        "\n",
        "# Assert statements are mainly used to test code\n",
        "# You give them a statement that should be True and they throw an error if it doesn't\n",
        "assert isinstance(sentence_1_bow, torch.Tensor), 'The BoW embedding should be a tensor'\n",
        "assert len(sentence_1_bow) == vocab_length, 'The length of the BoW embedding should be the same as the vocabulary'\n",
        "assert torch.all(sentence_1_bow == sentence_2_bow), 'Texts with the exact same words should have the same BoW embedding'\n",
        "assert torch.any(sentence_1_bow != sentence_3_bow), 'Texts with different words should have different BoW embeddings'\n",
        "assert sum(sentence_1_bow) == len(sentence_1_indexed), 'The sum of the BoW embedding should be the number of words in the text'\n",
        "assert max(sentence_4_bow) == 2, 'A BoW embeddings should count the number of occurances of each word'\n",
        "\n",
        "print('The bow_embedder seems to be properly implemented!')"
      ]
    },
    {
      "cell_type": "markdown",
      "metadata": {
        "id": "rW9J4PJiy6K0"
      },
      "source": [
        "#### Visualizing BoW\n",
        "\n",
        "Before we use our embedder to train an actual neural network on the AG News dataset, let's see what it looks like using our smaller \"cat on the mat\"-dataset."
      ]
    },
    {
      "cell_type": "code",
      "execution_count": null,
      "metadata": {
        "colab": {
          "base_uri": "https://localhost:8080/",
          "height": 235
        },
        "id": "HRDv-ukVy6K0",
        "outputId": "ee280d43-80e3-40c1-e838-e17baa81f091"
      },
      "outputs": [
        {
          "output_type": "error",
          "ename": "NameError",
          "evalue": "ignored",
          "traceback": [
            "\u001b[0;31m---------------------------------------------------------------------------\u001b[0m",
            "\u001b[0;31mNameError\u001b[0m                                 Traceback (most recent call last)",
            "\u001b[0;32m<ipython-input-1-e054eaa918d6>\u001b[0m in \u001b[0;36m<module>\u001b[0;34m()\u001b[0m\n\u001b[1;32m      1\u001b[0m \u001b[0;31m## Let's take a sentence and create the BoW representation for it\u001b[0m\u001b[0;34m\u001b[0m\u001b[0;34m\u001b[0m\u001b[0;34m\u001b[0m\u001b[0m\n\u001b[0;32m----> 2\u001b[0;31m \u001b[0manimal_vocab\u001b[0m \u001b[0;34m=\u001b[0m \u001b[0mSimpleVocabulary\u001b[0m\u001b[0;34m(\u001b[0m\u001b[0manimal_corpus\u001b[0m\u001b[0;34m)\u001b[0m \u001b[0;31m# Create vocabulary\u001b[0m\u001b[0;34m\u001b[0m\u001b[0;34m\u001b[0m\u001b[0m\n\u001b[0m\u001b[1;32m      3\u001b[0m \u001b[0mtest_sequence\u001b[0m \u001b[0;34m=\u001b[0m \u001b[0;34m'the cat stood on the mat'\u001b[0m \u001b[0;31m# Create the sentence\u001b[0m\u001b[0;34m\u001b[0m\u001b[0;34m\u001b[0m\u001b[0m\n\u001b[1;32m      4\u001b[0m \u001b[0mtokenized_sequence\u001b[0m \u001b[0;34m=\u001b[0m \u001b[0msimple_tokenizer\u001b[0m\u001b[0;34m(\u001b[0m\u001b[0mtest_sequence\u001b[0m\u001b[0;34m)\u001b[0m \u001b[0;31m# Tokenize the sentence\u001b[0m\u001b[0;34m\u001b[0m\u001b[0;34m\u001b[0m\u001b[0m\n\u001b[1;32m      5\u001b[0m \u001b[0mindexed_sequence\u001b[0m \u001b[0;34m=\u001b[0m \u001b[0mtorch\u001b[0m\u001b[0;34m.\u001b[0m\u001b[0mTensor\u001b[0m\u001b[0;34m(\u001b[0m\u001b[0mindex_sequence\u001b[0m\u001b[0;34m(\u001b[0m\u001b[0mtokenized_sequence\u001b[0m\u001b[0;34m,\u001b[0m \u001b[0manimal_vocab\u001b[0m\u001b[0;34m)\u001b[0m\u001b[0;34m)\u001b[0m \u001b[0;31m#Index the sentence and turn it into a tensor\u001b[0m\u001b[0;34m\u001b[0m\u001b[0;34m\u001b[0m\u001b[0m\n",
            "\u001b[0;31mNameError\u001b[0m: name 'SimpleVocabulary' is not defined"
          ]
        }
      ],
      "source": [
        "## Let's take a sentence and create the BoW representation for it\n",
        "animal_vocab = SimpleVocabulary(animal_corpus) # Create vocabulary\n",
        "test_sequence = 'the cat stood on the mat' # Create the sentence\n",
        "tokenized_sequence = simple_tokenizer(test_sequence) # Tokenize the sentence\n",
        "indexed_sequence = torch.Tensor(index_sequence(tokenized_sequence, animal_vocab)) #Index the sentence and turn it into a tensor\n",
        "bow_sequence = bow_embedder(indexed_sequence, len(animal_vocab)) # Create the BoW embedding of the sentence\n",
        "\n",
        "print(f'The sentence \\n\"{test_sequence}\"\\nwas embedded with the BoW representation \\n{bow_sequence}\\n')"
      ]
    },
    {
      "cell_type": "markdown",
      "metadata": {
        "id": "I-MDi0Psy6K1"
      },
      "source": [
        "### Training a news text classifier\n",
        "\n",
        "So now that we have a way to embed our sentences, let's use that to train a classifier on the AG News dataset.\n",
        "\n",
        "**Exercise 1.3**: Create a neural network and the train and test loops, and get at least 80% accuracy on the test set.\n",
        "\n"
      ]
    },
    {
      "cell_type": "code",
      "execution_count": null,
      "metadata": {
        "id": "gJ2Gqt4dy6K1"
      },
      "outputs": [],
      "source": [
        "# We create our own dataset to load the BoW embedded texts\n",
        "class BoWDataset(torch.utils.data.Dataset):\n",
        "    def __init__(self, dataset, embedder):\n",
        "        self.dataset = dataset\n",
        "        self.embedder = embedder\n",
        "\n",
        "    def __getitem__(self, index):\n",
        "        return self.dataset[index][0], self.embedder(self.dataset[index][1], len(vocab))\n",
        "\n",
        "    def __len__(self):\n",
        "        return len(self.dataset)"
      ]
    },
    {
      "cell_type": "code",
      "execution_count": null,
      "metadata": {
        "colab": {
          "base_uri": "https://localhost:8080/"
        },
        "id": "rhiGrAbGy6K2",
        "outputId": "20ba5ff3-3442-4104-f312-0ba5ca8c1336"
      },
      "outputs": [
        {
          "output_type": "stream",
          "name": "stdout",
          "text": [
            "95812\n",
            "{0: 'World', 1: 'Sports', 2: 'Business', 3: 'Sci/Tec'}\n",
            "Epoch 1 [120/120] - Loss: 0.2528955042362213"
          ]
        }
      ],
      "source": [
        "bow_train_data = BoWDataset(ag_train, bow_embedder)\n",
        "bow_test_data = BoWDataset(ag_test, bow_embedder)\n",
        "bow_trainloader = DataLoader(bow_train_data, batch_size=1000, shuffle=True)\n",
        "bow_testloader = DataLoader(bow_test_data, batch_size=1000, shuffle=False)\n",
        "print(len(bow_test_data[0][1]))\n",
        "print(ag_labels)\n",
        "\n",
        "## CREATE A NEURAL NETWORK TO TRAIN\n",
        "#network = nn.Sequential(\n",
        "#    ... # HINT: We want our input to be the size of our BoW embedding and our output to be the different possible classes\n",
        "#)\n",
        "\n",
        "\n",
        "network = nn.Sequential(\n",
        "    nn.Linear(95812,100),\n",
        "    nn.ReLU(),\n",
        "    nn.Linear(100,4)\n",
        ")\n",
        "optimizer = torch.optim.Adam(network.parameters())\n",
        "\n",
        "loss_function = nn.CrossEntropyLoss()\n",
        "\n",
        "epochs = 1 # The dataset is large so one epoch should do for our purpose (and anything more would take forever)\n",
        "\n",
        "for epoch in range(epochs):\n",
        "    # For each batch of data (since the dataset is too large to run all data through the network at once)\n",
        "    for batch_nr, (labels, data) in enumerate(bow_trainloader):\n",
        "       ## WRITE TRAINING CODE HERE\n",
        "       #...\n",
        "\n",
        "\n",
        "        # Predict for each BoW represented text in the batch what class they belong to\n",
        "        prediction = network(data)\n",
        "\n",
        "        # Calculate the loss of the prediction by comparing to the expected output\n",
        "        loss = loss_function(prediction,labels)\n",
        "\n",
        "        # Backpropagate the loss through the network to find the gradients of all parameters\n",
        "        loss.backward()\n",
        "\n",
        "        # Update the parameters along their gradients\n",
        "        optimizer.step()\n",
        "\n",
        "        # Clear stored gradient values\n",
        "        optimizer.zero_grad()\n",
        "\n",
        "        #Print the epoch, batch, and loss\n",
        "        print(\n",
        "            f'\\rEpoch {epoch+1} [{batch_nr+1}/{len(bow_trainloader)}] - Loss: {loss}',\n",
        "            end=''\n",
        "        )\n",
        "\n"
      ]
    },
    {
      "cell_type": "code",
      "execution_count": null,
      "metadata": {
        "colab": {
          "base_uri": "https://localhost:8080/"
        },
        "id": "w0tBrdHOy6K2",
        "outputId": "86f97f9f-e9b9-44d2-c0bc-fe38a0ebabcf"
      },
      "outputs": [
        {
          "output_type": "stream",
          "name": "stdout",
          "text": [
            "tensor([1, 2, 1, 0, 1, 0, 0, 3, 3, 1, 2, 1, 1, 2, 2, 3, 2, 1, 3, 2, 3, 0, 3, 2,\n",
            "        3, 2, 1, 0, 3, 2, 0, 2, 1, 2, 0, 2, 2, 3, 1, 1, 1, 2, 1, 0, 2, 1, 1, 2,\n",
            "        3, 2, 3, 2, 1, 1, 2, 1, 2, 1, 3, 3, 2, 0, 1, 3, 0, 1, 3, 1, 0, 0, 3, 0,\n",
            "        1, 1, 0, 1, 3, 2, 3, 3, 0, 1, 0, 3, 3, 2, 0, 3, 2, 1, 3, 3, 3, 1, 3, 0,\n",
            "        2, 0, 3, 1, 3, 1, 2, 0, 1, 0, 2, 0, 3, 2, 3, 2, 3, 0, 1, 1, 3, 2, 2, 2,\n",
            "        3, 2, 2, 1, 3, 3, 0, 1, 1, 1, 3, 1, 1, 1, 3, 3, 0, 1, 1, 2, 3, 0, 3, 3,\n",
            "        1, 0, 1, 0, 3, 3, 0, 3, 2, 1, 1, 2, 3, 2, 0, 0, 2, 0, 2, 3, 0, 2, 2, 0,\n",
            "        2, 1, 1, 1, 1, 1, 0, 3, 2, 0, 1, 2, 3, 2, 3, 1, 1, 3, 0, 0, 0, 3, 3, 1,\n",
            "        0, 1, 1, 1, 2, 0, 3, 3, 1, 3, 1, 0, 3, 3, 0, 0, 2, 2, 3, 2, 2, 0, 2, 2,\n",
            "        2, 2, 0, 2, 3, 1, 3, 1, 2, 0, 3, 1, 3, 3, 2, 0, 3, 1, 1, 0, 3, 1, 3, 2,\n",
            "        1, 2, 2, 2, 1, 2, 1, 3, 0, 3, 2, 1, 3, 2, 1, 0, 1, 0, 1, 2, 2, 3, 1, 1,\n",
            "        0, 0, 2, 3, 0, 0, 3, 0, 1, 3, 2, 2, 3, 3, 0, 0, 3, 2, 1, 2, 2, 2, 1, 2,\n",
            "        3, 2, 0, 1, 3, 3, 2, 1, 0, 1, 2, 0, 1, 3, 3, 1, 0, 3, 0, 0, 2, 0, 2, 3,\n",
            "        2, 0, 2, 1, 3, 3, 3, 0, 3, 3, 0, 2, 2, 3, 2, 0, 1, 1, 2, 3, 3, 0, 3, 3,\n",
            "        0, 0, 2, 3, 0, 3, 1, 1, 0, 2, 1, 3, 2, 3, 0, 0, 3, 1, 2, 0, 1, 0, 3, 1,\n",
            "        2, 2, 0, 1, 0, 2, 3, 1, 1, 2, 1, 3, 0, 0, 1, 2, 1, 3, 1, 3, 3, 0, 3, 3,\n",
            "        1, 1, 0, 0, 2, 3, 2, 1, 3, 0, 1, 3, 1, 1, 3, 3, 2, 1, 3, 1, 3, 2, 0, 3,\n",
            "        3, 0, 0, 0, 3, 1, 1, 0, 2, 0, 2, 3, 3, 1, 3, 2, 1, 0, 0, 1, 0, 3, 1, 3,\n",
            "        1, 3, 3, 1, 3, 0, 3, 0, 2, 0, 3, 2, 1, 2, 2, 3, 0, 2, 3, 3, 2, 2, 2, 3,\n",
            "        1, 1, 3, 1, 0, 1, 3, 2, 3, 1, 0, 3, 1, 1, 1, 2, 1, 1, 3, 0, 2, 3, 1, 2,\n",
            "        2, 1, 1, 2, 2, 0, 3, 1, 3, 1, 1, 1, 2, 1, 3, 2, 1, 2, 3, 0, 3, 3, 2, 0,\n",
            "        0, 1, 2, 1, 1, 0, 3, 1, 3, 0, 1, 1, 1, 2, 0, 3, 0, 3, 3, 0, 1, 2, 2, 1,\n",
            "        3, 2, 1, 0, 2, 0, 2, 1, 1, 2, 0, 3, 0, 2, 1, 3, 2, 0, 2, 0, 3, 3, 0, 1,\n",
            "        2, 1, 0, 0, 2, 3, 3, 0, 0, 2, 1, 1, 0, 2, 2, 2, 0, 3, 0, 2, 2, 2, 0, 1,\n",
            "        1, 0, 0, 2, 0, 2, 3, 1, 2, 3, 1, 3, 2, 2, 1, 2, 2, 2, 2, 2, 1, 2, 2, 0,\n",
            "        0, 2, 3, 1, 1, 1, 2, 3, 2, 0, 1, 2, 1, 2, 1, 1, 3, 2, 2, 3, 0, 3, 3, 1,\n",
            "        3, 2, 2, 1, 2, 1, 0, 1, 1, 2, 3, 1, 2, 3, 0, 1, 0, 2, 0, 3, 3, 3, 0, 1,\n",
            "        2, 3, 3, 3, 3, 2, 0, 3, 1, 0, 0, 0, 2, 2, 2, 1, 0, 1, 1, 3, 0, 1, 1, 3,\n",
            "        3, 1, 3, 0, 1, 3, 0, 0, 2, 0, 2, 2, 1, 3, 3, 3, 2, 3, 3, 2, 0, 3, 2, 3,\n",
            "        3, 0, 2, 0, 1, 1, 1, 2, 0, 0, 2, 0, 0, 2, 3, 0, 1, 2, 1, 0, 3, 2, 1, 2,\n",
            "        2, 3, 2, 0, 1, 1, 3, 0, 2, 0, 2, 2, 1, 0, 1, 0, 1, 2, 1, 1, 0, 1, 3, 0,\n",
            "        3, 3, 3, 1, 0, 2, 1, 1, 2, 3, 3, 3, 3, 0, 3, 0, 1, 3, 1, 1, 1, 3, 0, 0,\n",
            "        0, 3, 0, 2, 2, 1, 3, 1, 3, 3, 2, 0, 3, 1, 1, 2, 3, 3, 0, 1, 2, 3, 2, 1,\n",
            "        2, 1, 2, 0, 2, 2, 2, 2, 3, 2, 0, 0, 2, 3, 3, 0, 0, 1, 2, 3, 2, 2, 3, 3,\n",
            "        1, 2, 2, 0, 2, 2, 0, 0, 2, 3, 3, 3, 1, 0, 0, 2, 2, 1, 1, 2, 3, 3, 2, 1,\n",
            "        2, 0, 2, 3, 0, 0, 0, 1, 0, 1, 0, 1, 1, 1, 3, 2, 1, 3, 1, 2, 2, 0, 3, 2,\n",
            "        3, 0, 3, 3, 3, 2, 2, 1, 0, 3, 0, 1, 2, 3, 2, 3, 3, 1, 0, 3, 1, 1, 2, 3,\n",
            "        1, 2, 0, 2, 0, 3, 3, 0, 3, 3, 3, 3, 2, 1, 3, 2, 3, 3, 0, 0, 2, 0, 1, 2,\n",
            "        3, 0, 2, 1, 0, 1, 1, 1, 2, 2, 0, 2, 0, 2, 2, 3, 3, 1, 0, 3, 1, 3, 1, 3,\n",
            "        2, 0, 0, 3, 0, 2, 3, 2, 2, 1, 2, 2, 3, 0, 1, 1, 2, 3, 3, 3, 0, 0, 0, 2,\n",
            "        0, 3, 3, 3, 0, 2, 3, 1, 3, 1, 1, 1, 3, 1, 0, 0, 2, 0, 1, 2, 3, 0, 1, 0,\n",
            "        2, 3, 1, 1, 2, 0, 1, 1, 2, 2, 3, 0, 2, 2, 2, 3])\n"
          ]
        }
      ],
      "source": [
        "print(labels)"
      ]
    },
    {
      "cell_type": "markdown",
      "metadata": {
        "id": "49wr-VhKy6K2"
      },
      "source": [
        "We should analyse the performance of our network besides the loss. Let's calculate the accuracy and the confusion matrix.\n",
        "\n",
        "**Exercise 1.4**: Calculate accuracy and the confusion matrix using predictions from the test set. Feel free to use the code for confusion matrix computation and visualisation provided below.\n",
        "\n"
      ]
    },
    {
      "cell_type": "code",
      "execution_count": null,
      "metadata": {
        "colab": {
          "base_uri": "https://localhost:8080/"
        },
        "id": "M8t5qDAyy6K2",
        "outputId": "74541ccb-a37f-4cc5-9597-cea486cc6ac7"
      },
      "outputs": [
        {
          "output_type": "stream",
          "name": "stdout",
          "text": [
            "The accuracy of the network is 91.7%.\n"
          ]
        }
      ],
      "source": [
        "with torch.no_grad():\n",
        "    classes = [0, 1, 2, 3]\n",
        "    correct = 0\n",
        "    total = 0\n",
        "    y_pred = []\n",
        "    y_true = []\n",
        "    # For each batch of testing data (since the dataset is too large to run all data through the network at once)\n",
        "    # Calculate the accuracy\n",
        "    for batch_nr, (labels, data) in enumerate(bow_testloader):\n",
        "        ## WRITE THE TESTING CODE HERE\n",
        "        prediction = network(data)\n",
        "        for i,pred in enumerate(prediction):\n",
        "            pred = torch.argmax(pred)\n",
        "            y_pred.append(pred)\n",
        "            y_true.append(labels[i])\n",
        "            if pred==labels[i]:\n",
        "                correct += 1\n",
        "            total += 1\n",
        "\n",
        "    print(f'The accuracy of the network is {str(100*correct/total)[:4]}%.')\n",
        ""
      ]
    },
    {
      "cell_type": "code",
      "execution_count": null,
      "metadata": {
        "id": "wDCV2Ou4y6K3"
      },
      "outputs": [],
      "source": [
        "from sklearn.metrics import confusion_matrix\n",
        "def plot_confusion_matrix(cm, classes,\n",
        "                          normalize=False,\n",
        "                          title='Confusion matrix',\n",
        "                          cmap=plt.cm.Blues):\n",
        "    \"\"\"\n",
        "    This function prints and plots the confusion matrix.\n",
        "    Normalization can be applied by setting `normalize=True`.\n",
        "    \"\"\"\n",
        "    import itertools\n",
        "    if normalize:\n",
        "        cm = cm.astype('float') / cm.sum(axis=1)[:, np.newaxis]\n",
        "        print(\"Normalized confusion matrix\")\n",
        "    else:\n",
        "        print('Confusion matrix, without normalization')\n",
        "\n",
        "    print(cm)\n",
        "\n",
        "    plt.imshow(cm, interpolation='nearest', cmap=cmap)\n",
        "    plt.title(title)\n",
        "    plt.colorbar()\n",
        "    tick_marks = numpy.arange(len(classes))\n",
        "    plt.xticks(tick_marks, classes, rotation=45)\n",
        "    plt.yticks(tick_marks, classes)\n",
        "\n",
        "    fmt = '.2f' if normalize else 'd'\n",
        "    thresh = cm.max() / 2.\n",
        "    for i, j in itertools.product(range(cm.shape[0]), range(cm.shape[1])):\n",
        "        plt.text(j, i, format(cm[i, j], fmt),\n",
        "                 horizontalalignment=\"center\",\n",
        "                 color=\"white\" if cm[i, j] > thresh else \"black\")\n",
        "\n",
        "    plt.ylabel('True label')\n",
        "    plt.xlabel('Predicted label')\n",
        "    plt.tight_layout()"
      ]
    },
    {
      "cell_type": "code",
      "execution_count": null,
      "metadata": {
        "colab": {
          "base_uri": "https://localhost:8080/",
          "height": 384
        },
        "id": "1DeNrrZCy6K3",
        "outputId": "222e2ce9-1292-4aec-d347-34e3c2db5afe"
      },
      "outputs": [
        {
          "output_type": "stream",
          "name": "stdout",
          "text": [
            "Confusion matrix, without normalization\n",
            "[[1729   55   68   48]\n",
            " [  14 1868   15    3]\n",
            " [  62   11 1684  143]\n",
            " [  55   14  142 1689]]\n"
          ]
        },
        {
          "output_type": "display_data",
          "data": {
            "image/png": "[encoded data removed]",
            "text/plain": [
              "<Figure size 432x288 with 2 Axes>"
            ]
          },
          "metadata": {
            "needs_background": "light"
          }
        }
      ],
      "source": [
        "\n",
        "cnf_matrix = confusion_matrix(y_true, y_pred,labels=[0, 1, 2, 3])\n",
        "numpy.set_printoptions(precision=2)\n",
        "\n",
        "# Plot non-normalized confusion matrix\n",
        "plt.figure()\n",
        "plot_confusion_matrix(cnf_matrix, classes=['World', 'Sports', 'Business', 'Sci/Tec'],\n",
        "                      title='Confusion matrix, without normalization')"
      ]
    },
    {
      "cell_type": "code",
      "execution_count": null,
      "metadata": {
        "colab": {
          "base_uri": "https://localhost:8080/"
        },
        "id": "t9PnGqBGy6K3",
        "outputId": "e99f45e3-0f2c-40a1-9843-f4a82c9297c6"
      },
      "outputs": [
        {
          "output_type": "stream",
          "name": "stdout",
          "text": [
            "The network predicted that \n",
            "\"wall st . bears claw back into the black ( reuters ) reuters - short-sellers , wall street ' s dwindling\\band of ultra-cynics , are seeing green again .\"\n",
            " should be in the category Business\n"
          ]
        }
      ],
      "source": [
        "# Let's print a sentence and predict it's category\n",
        "sentence_index = 0\n",
        "prediction = torch.argmax(network(torch.unsqueeze(bow_embedder(ag_train[sentence_index][1], len(vocab)), dim=0))).item()\n",
        "print(\n",
        "    f'The network predicted that \\n\"{tensor2text(ag_train[sentence_index][1])}\"\\n should be in the category {ag_labels[prediction]}'\n",
        ")"
      ]
    },
    {
      "cell_type": "markdown",
      "metadata": {
        "id": "MbX0vrfyy6K4"
      },
      "source": [
        "## 2. Word2Vec\n",
        "\n",
        "As you might already have thought BoW embeddings have a few problems.\n",
        "Firstly, it diregards the order of words which, as previously stated, can be quite important.\n",
        "Secondly, the size of the embedding grows larger with the size of the vocabulary.\n",
        "While the second issue can be solved by limiting the vocabulary to the most common/important words, this remains a fairly large vector with very few non-zero elements (a sparse vector).\n",
        "\n",
        "One commonly used alternative that fixes both of these issues is the so-called Word2Vec embeddings.\n",
        "Word2Vec can be summarized as using machine learning to learn non-sparse (most, if not all, entries are non-zero) word embeddings with fewer dimensions (typically between 100 and 1000). A text is then represented as a matrix where the first row (or column depending on how you use it) represents the first word and so on.\n",
        "<img src=\"attachment:image.png\" width=\"700\">\n",
        "\n",
        "So how do you learn an embedding?\n",
        "Again, there are many ways to do this, but the most common Word2Vec methods use the idea that a word is defined by the company it keeps.\n",
        "That is, an embedding of a word is good if you can either use it to predict which the surrounding words are or if it can be predicted using the surrounding words.\n",
        "So you either train a model to predict the surrounding words from the central word, or train it to predict a word from the surrounding ones.\n",
        "These two methods are called Skip-Gram and Continuous Bag of Words (CBoW) respectively and are illustrated by the images below.\n",
        "\n",
        "<h1><center>Skip-gram</center></h1>| <h2><center>CBoW</center></h2>\n",
        "- | -\n",
        "<img src=\"attachment:image-3.png\" width=\"300\"> | <img src=\"attachment:image-2.png\" width=\"300\">\n",
        "\n",
        "The logic behind these methods can be better understood by imagining synonyms.\n",
        "If we're creating embeddings (codes) to represent different words, it makes sense that similar words should have similar embeddings.\n",
        "Since synonymous words would have many similar surrounding words in many sentences, telling the difference between the two would be difficult, and thus giving them similar embeddings would lead to a lesser error.\n",
        "However, words that have slightly different meaning cannot have the same embeddings, because that would make predicting words from that embedding more difficult.\n",
        "\n",
        "While training useful such embeddings for every single words takes huge datasets of texts, this only has to be done once and then those embeddings can be used for many different applications.\n",
        "Due to this time consuming training we will only train a very small sample of word embeddings to learn how it's done and better understand them.\n",
        "Afterwards we will use pretrained embeddings to do some actual prediction.\n",
        "\n",
        "With this in mind we will use the \"cat on the mat\" dataset to train our embeddings.\n",
        "Our goal is to create embeddings where each group of words (animals, furniture, actions, and other) are given distinct groups in the encoding space."
      ]
    },
    {
      "cell_type": "markdown",
      "metadata": {
        "id": "GGyuGukzy6K4"
      },
      "source": [
        "### Skip-gram embedding\n",
        "\n",
        "In Skip-gram embeddings we want to predict the surrounding words from a given one.\n",
        "Rather than for a given word predicting all the surrounding words at once, we'll create context-target pairs.\n",
        "We decide on a window size, and create a context target pair with the central word being the context and each word in the window of surrounding words will be our target.\n",
        "<img src=\"attachment:image.png\" width=\"600\">\n",
        "\n",
        "The goal of the training is to predict the target word given the context word.\n",
        "We provide the function for creating context-target pairs below, so you don't need to implement this yourself.\n",
        "\n",
        "We'll use these context-target pairs to train a neural network to predict the target word and, hopefully, during this training the hidden layer of the neural network will become the embedding of our context word.\n",
        "So in order to get the embedding after training, we simply input a word and extract the values of the hidden layer of the network"
      ]
    },
    {
      "cell_type": "code",
      "execution_count": null,
      "metadata": {
        "id": "jLIsHeuiy6K4"
      },
      "outputs": [],
      "source": [
        "## Hyperparameters for Skip-gram Embedding\n",
        "WINDOW_SIZE = 2\n",
        "EMBEDDING_SIZE = 2"
      ]
    },
    {
      "cell_type": "code",
      "execution_count": null,
      "metadata": {
        "id": "cxgaPCP5y6K4"
      },
      "outputs": [],
      "source": [
        "# This is code for the skipgram generation (you don't need to understand it)\n",
        "def skipgrams(sequences, window_size = 2, shuffle = True):\n",
        "    couples = []\n",
        "    for sequence in sequences:\n",
        "        for i, wi in enumerate(sequence):\n",
        "\n",
        "            window_start = max(0, i - window_size)\n",
        "            window_end = min(len(sequence), i + window_size + 1)\n",
        "            for j in range(window_start, window_end):\n",
        "                if j != i:\n",
        "                    wj = sequence[j]\n",
        "                    couples.append([wi, wj])\n",
        "\n",
        "    if shuffle:\n",
        "        seed = random.randint(0, 10e6)\n",
        "        random.shuffle(couples)\n",
        "\n",
        "    return torch.Tensor(couples)"
      ]
    },
    {
      "cell_type": "code",
      "execution_count": null,
      "metadata": {
        "colab": {
          "base_uri": "https://localhost:8080/"
        },
        "id": "Ql7PBVKsy6K4",
        "outputId": "4885475c-bac6-47aa-fde6-052a3833994e"
      },
      "outputs": [
        {
          "output_type": "stream",
          "name": "stdout",
          "text": [
            "The sentence: the cat stood on the mat\n",
            "The sentence split into tokens: ['the', 'cat', 'stood', 'on', 'the', 'mat']\n",
            "The indexed sentence: [0, 1, 8, 3, 0, 4]\n",
            "All generated skip-gram pairs: tensor([[0, 1],\n",
            "        [0, 8],\n",
            "        [1, 0],\n",
            "        [1, 8],\n",
            "        [1, 3],\n",
            "        [8, 0],\n",
            "        [8, 1],\n",
            "        [8, 3],\n",
            "        [8, 0],\n",
            "        [3, 1],\n",
            "        [3, 8],\n",
            "        [3, 0],\n",
            "        [3, 4],\n",
            "        [0, 8],\n",
            "        [0, 3],\n",
            "        [0, 4],\n",
            "        [4, 3],\n",
            "        [4, 0]], dtype=torch.int32)\n",
            "The skip-gram pairs as text: [('the', 'cat'), ('the', 'stood'), ('cat', 'the'), ('cat', 'stood'), ('cat', 'on'), ('stood', 'the'), ('stood', 'cat'), ('stood', 'on'), ('stood', 'the'), ('on', 'cat'), ('on', 'stood'), ('on', 'the'), ('on', 'mat'), ('the', 'stood'), ('the', 'on'), ('the', 'mat'), ('mat', 'on'), ('mat', 'the')]\n"
          ]
        }
      ],
      "source": [
        "# We print the path from text to skip-grams so you can see the process\n",
        "\n",
        "animal_vocab = SimpleVocabulary(animal_corpus)\n",
        "test_sequence = 'the cat stood on the mat'\n",
        "print('The sentence:',test_sequence)\n",
        "tokenized_sequence = simple_tokenizer(test_sequence)\n",
        "print('The sentence split into tokens:',tokenized_sequence)\n",
        "indexed_sequence = [animal_vocab.get_index(token) for token in tokenized_sequence]\n",
        "print('The indexed sentence:', indexed_sequence)\n",
        "skipgrams_sequence = skipgrams([indexed_sequence], shuffle=False).int()\n",
        "print('All generated skip-gram pairs:', skipgrams_sequence)\n",
        "skipgrams_sequence_words = [(animal_vocab.get_token(x[0]), animal_vocab.get_token(x[1])) for x in skipgrams_sequence]\n",
        "print('The skip-gram pairs as text:', skipgrams_sequence_words)"
      ]
    },
    {
      "cell_type": "code",
      "execution_count": null,
      "metadata": {
        "colab": {
          "base_uri": "https://localhost:8080/"
        },
        "id": "aLT2MWwHy6K5",
        "outputId": "ee700a04-94cf-4e00-e88b-cd7710b75f93"
      },
      "outputs": [
        {
          "output_type": "stream",
          "name": "stdout",
          "text": [
            "There are 2304 pairs of skip-grams created from the \"cat in the mat\" dataset.\n"
          ]
        }
      ],
      "source": [
        "# We create the actual skip-gram pairs for the entire \"cat on the mat\"-dataset\n",
        "\n",
        "animal_vocab = SimpleVocabulary(animal_corpus)\n",
        "indexed_text = [[animal_vocab.get_index(token) for token in simple_tokenizer(text)] for text in animal_corpus]\n",
        "pairs = skipgrams(indexed_text, WINDOW_SIZE)\n",
        "print(f'There are {len(pairs)} pairs of skip-grams created from the \"cat in the mat\" dataset.')"
      ]
    },
    {
      "cell_type": "markdown",
      "metadata": {
        "id": "fU39QwYVy6K5"
      },
      "source": [
        "For creating the skipgram embedding we will not use nn.Sequential as we usually do when creating neural networks.\n",
        "Instead we will create a subclass of nn.Module to create our own PyTorch module.\n",
        "This is useful when we need to create neural networks with non-linear structure, or with some quirk that cannot be implemented with existing modules.\n",
        "In short a nn.Module needs only a single function called 'forward' that takes the input and performs the forward pass of the network using differentiable functions (most torch functions and mathematical operations supports this).\n",
        "Any part of the module that needs to be initialized (like nn.Linear) needs to be so in the \\_\\_init\\_\\_ function of the network after the super().\\_\\_init\\_\\_() statement.\n",
        "In this exercise you will not need to write the \\_\\_init\\_\\_ function.\n",
        "For more information on creating networks as subclasses of nn.Module, read **[here](https://pytorch.org/tutorials/beginner/pytorch_with_examples.html#nn-module)**.\n",
        "\n",
        "**Exercise 2.1**: Create the SkipgramEmbedder class, a neural network that first reduces the one-hot embedding of one word to a smaller embedding space and then predicts the one-hot embedding of the paired word using that. These embeddings should then be such that most groups of words are separate on the embedding space (though if two groups overlaps that is fine). Think of why the groups gets embedded the way they do."
      ]
    },
    {
      "cell_type": "code",
      "execution_count": null,
      "metadata": {
        "id": "iCz8sxCHy6K5"
      },
      "outputs": [],
      "source": [
        "# An Embedding layer used for turning int into one-hot\n",
        "to_onehot = nn.Embedding.from_pretrained(torch.eye(len(animal_vocab)))\n",
        "\n",
        "class SkipgramEmbedder(nn.Module):\n",
        "    def __init__(self):\n",
        "        super().__init__()\n",
        "        self.input_layer = nn.Linear(len(animal_vocab), EMBEDDING_SIZE)\n",
        "        self.output_layer = nn.Linear(EMBEDDING_SIZE, len(animal_vocab))\n",
        "        self.softmax = nn.Softmax()\n",
        "\n",
        "    def embed(self, context_index):\n",
        "        # IMPLEMENT THE EMBEDDING STEP OF THE SKIP-GRAM EMBEDDER\n",
        "        context_onehot = to_onehot(context_index) # Make a one-hot representation of the index\n",
        "        embedding = self.input_layer(context_onehot) # Pass the one-hot representation throught the first layer to create an embedding\n",
        "        return embedding\n",
        "\n",
        "    def forward(self, context_index):\n",
        "        # IMPLEMENT THE FORWARD PASS FOR PREDICTING TARGET WORD FROM THE CONTEXT WORD\n",
        "        embedding = self.embed(context_index) # Use the self.embed function\n",
        "        output = self.output_layer(embedding) # Pass the embedding through the second layer to create an output\n",
        "        prediction = self.softmax(output) # Pass the output through softmax\n",
        "        return prediction\n",
        "\n"
      ]
    },
    {
      "cell_type": "markdown",
      "metadata": {
        "id": "XH1-x84cy6K5"
      },
      "source": [
        "#### Learing the embeddings\n",
        "Run the code below to train your embedder so it learns the embeddings\n",
        "\n",
        "**Exercise 2.2:** Implement a network that trains your embedder by predicting targets based on context.\n",
        "\n",
        "**Hint**: The code for training is very similar to exercise 1.3, but we now need to use *pairs* to extract the current contexts for prediction and targets for evaluation, and some way of keeping track of indexes."
      ]
    },
    {
      "cell_type": "code",
      "execution_count": null,
      "metadata": {
        "colab": {
          "base_uri": "https://localhost:8080/"
        },
        "id": "U5xqnSERy6K5",
        "outputId": "1a3cb6d3-1dec-42a7-e668-5e647e6354d3"
      },
      "outputs": [
        {
          "output_type": "stream",
          "name": "stderr",
          "text": [
            "/usr/local/lib/python3.7/dist-packages/ipykernel_launcher.py:21: UserWarning: Implicit dimension choice for softmax has been deprecated. Change the call to include dim=X as an argument.\n"
          ]
        },
        {
          "output_type": "stream",
          "name": "stdout",
          "text": [
            "Epoch 1000 [1/1.0] - Loss: 2.6420609951019287"
          ]
        }
      ],
      "source": [
        "model = SkipgramEmbedder()\n",
        "optimizer = torch.optim.RMSprop(model.parameters(), lr=0.01)\n",
        "loss_function = nn.CrossEntropyLoss()\n",
        "#Epochs\n",
        "TOTAL_EPOCHS = 1000\n",
        "BATCH_SIZE = 2303\n",
        "EMBEDDING_SIZE = 100\n",
        "# For each epoch\n",
        "for epoch in range(TOTAL_EPOCHS):\n",
        "    #\n",
        "    # A variable for containing the sum of all batch losses for this epoch\n",
        "    epoch_loss = 0\n",
        "    #\n",
        "    # Lower index\n",
        "    start = 0\n",
        "    #\n",
        "    # For each batch\n",
        "    for batch_nr, end in enumerate(range(BATCH_SIZE,len(pairs),BATCH_SIZE)):\n",
        "        #\n",
        "        targets = torch.Tensor(pairs[start:end,0]).long()\n",
        "        contexts = torch.Tensor(pairs[start:end,1]).long()\n",
        "        #\n",
        "        start = end\n",
        "        #\n",
        "        # Predict for context word in the batch what the target word should be\n",
        "        prediction = model.forward(contexts)\n",
        "        #\n",
        "        # Calculate the loss of the prediction by comparing to the actual target word\n",
        "        loss = loss_function(prediction,targets)\n",
        "        #\n",
        "        # Backpropogate the loss through the network to find the gradients of all parameters\n",
        "        loss.backward()\n",
        "        #\n",
        "        # Update the parameters along their gradients\n",
        "        optimizer.step()\n",
        "        #\n",
        "        # Clear stored gradient values\n",
        "        optimizer.zero_grad()\n",
        "        #\n",
        "        # Add the loss to the total epoch loss (item() turns a PyTorch scalar into a normal Python datatype)\n",
        "        epoch_loss+=loss.item()\n",
        "        #\n",
        "        #Print the epoch, batch, and loss\n",
        "        print(\n",
        "            f'\\rEpoch {epoch+1} [{batch_nr+1}/{len(targets)/BATCH_SIZE}] - Loss: {loss}',\n",
        "            end=''\n",
        "        )"
      ]
    },
    {
      "cell_type": "markdown",
      "metadata": {
        "id": "xDCvBdgOy6K6"
      },
      "source": [
        "#### Visualizing the embeddings\n",
        "You don't need to understand the code below, instead we will explain it here.\n",
        "Below we run each individual word in the \"cat on the mat\" dataset throgh the SkimgramEmbedder in order to get its embedding. Then we use [Prinipal Component Analysis (PCA)](https://en.wikipedia.org/wiki/Principal_component_analysis) in order to reduce the embedding dimensionality to 2 (if you have changed the dimensionality to anything larger) and then we print that as a graph where each group of words have been given the same color in order to display how they are grouped. Ideally the training should have converged towards clear groupings of similar words. If it hasn't try running the training again (it shouldn't take that many tries to get an embedding that clearly separates most groups of words). If you cannot get an embedding that separates all groups, don't worry about it so long as most groups are separated."
      ]
    },
    {
      "cell_type": "code",
      "execution_count": null,
      "metadata": {
        "colab": {
          "base_uri": "https://localhost:8080/",
          "height": 775
        },
        "id": "mJOZOeiwy6K6",
        "outputId": "5aeb1b04-1f6d-48e0-e3b6-8ccfef1ae9b8"
      },
      "outputs": [
        {
          "output_type": "stream",
          "name": "stdout",
          "text": [
            "The embeddings if all words in the vocabulary\n",
            "[[-3.39  0.34]\n",
            " [-2.4  -2.66]\n",
            " [ 0.41 -3.52]\n",
            " [ 0.93 -3.46]\n",
            " [-2.38 -2.63]\n",
            " [-2.36 -2.61]\n",
            " [-2.38 -2.64]\n",
            " [-2.43 -2.69]\n",
            " [ 0.41 -3.61]\n",
            " [ 0.45 -3.58]\n",
            " [ 0.44 -3.59]\n",
            " [-2.35 -2.6 ]\n",
            " [-2.39 -2.65]\n",
            " [-2.42 -2.68]\n",
            " [-2.38 -2.64]\n",
            " [-2.4  -2.66]\n",
            " [-2.42 -2.69]\n",
            " [-2.39 -2.64]]\n"
          ]
        },
        {
          "output_type": "display_data",
          "data": {
            "image/png": "[encoded data removed]",
            "text/plain": [
              "<Figure size 1440x720 with 1 Axes>"
            ]
          },
          "metadata": {
            "needs_background": "light"
          }
        }
      ],
      "source": [
        "%matplotlib inline\n",
        "from sklearn.decomposition import PCA\n",
        "from matplotlib import pyplot as plt\n",
        "\n",
        "\n",
        "category_colors = {'animals' : 'green',\n",
        "                   'actions' : 'blue',\n",
        "                   'furniture' : 'yellow'}\n",
        "\n",
        "colors = []\n",
        "for i in range(vocabulary_size):\n",
        "    colors.append('red')\n",
        "\n",
        "for word in animal_vocab.index2token:\n",
        "    index = animal_vocab.get_index(word)\n",
        "    if word in animals:\n",
        "        colors[index] = category_colors['animals']\n",
        "    elif word in actions:\n",
        "        colors[index] = category_colors['actions']\n",
        "    elif word in furniture:\n",
        "        colors[index] = category_colors['furniture']\n",
        "\n",
        "# Plots embeddings using PCA (you don't need to understand it)\n",
        "def plot_embeddings_after_pca(vectors):\n",
        "        \"\"\"\n",
        "        Perform PCA and plot the resulting 2 components on X and Y axis\n",
        "        Args:\n",
        "          embedding_weights - the set of vectors to\n",
        "        \"\"\"\n",
        "        pca = PCA(n_components=2)\n",
        "        vectors_pca = pca.fit_transform(vectors)\n",
        "        plt.figure(figsize=(20,10))\n",
        "\n",
        "        # We do not draw the first element, which is the 'Out-of-Vocabulary' token\n",
        "        plt.scatter(vectors_pca[:,0], vectors_pca[:,1], c=colors, s=100, alpha=0.3);\n",
        "        plt.title('Embeddings after PCA')\n",
        "        legend_elements = [\n",
        "                    plt.Line2D([0], [0], marker='o', color=category_colors['animals'], label='Animals'),\n",
        "                    plt.Line2D([0], [0], marker='o', color=category_colors['actions'], label='Actions'),\n",
        "                    plt.Line2D([0], [0], marker='o', color=category_colors['furniture'], label='Furniture'),\n",
        "                    plt.Line2D([0], [0], marker='o', color='red', label='Other'),\n",
        "                  ]\n",
        "\n",
        "        # Create the figure\n",
        "        plt.legend(handles=legend_elements)\n",
        "\n",
        "# Extracting the embeddings for every word in the vocabulary, detaching them from PyTorch, and turning them into numpy\n",
        "numpy_word_vectors = model.embed(torch.Tensor(range(vocabulary_size)).long()).detach().numpy()\n",
        "\n",
        "print('The embeddings if all words in the vocabulary')\n",
        "print(numpy_word_vectors)\n",
        "\n",
        "# Display the most significant axes of the word vectors using PCA\n",
        "plot_embeddings_after_pca(numpy_word_vectors)"
      ]
    },
    {
      "cell_type": "markdown",
      "metadata": {
        "id": "dV0sK2DVy6K6"
      },
      "source": [
        "## 3. Using pretrained embeddings\n",
        "\n",
        "A problem with training word embeddings is that you would need to have a dataset containing all words you want to embed in many different sentences.\n",
        "This adds up to needing really large datasets (the entirety of Wikipedia for example) to create good embeddings.\n",
        "This is unfeasible for most people as it requires huge amounts of computational power and the ability to download and store huge datasets.\n",
        "Not to mention that if everyone did this it would waste a lot of energy compared to reusing pre-trained networks.\n",
        "Consequently, pre-trained embeddings created by researchers with access to large computational resources have been made publicly available.\n",
        "Thus, this is an efficient way to get access to good word embeddings while saving time and energy.\n",
        "\n",
        "We will use one such pretrained embedding network to train a network to make predictions on the AG News dataset.\n",
        "\n",
        "![bild.png](attachment:bild.png)\n"
      ]
    },
    {
      "cell_type": "code",
      "execution_count": null,
      "metadata": {
        "id": "IrIyU5NOy6K6"
      },
      "outputs": [],
      "source": [
        "from gensim.models import KeyedVectors\n",
        "\n",
        "# Load embeddings from the pre-trained file\n",
        "import gensim.downloader as api\n",
        "wv = api.load('word2vec-google-news-300')"
      ]
    },
    {
      "cell_type": "code",
      "execution_count": null,
      "metadata": {
        "colab": {
          "base_uri": "https://localhost:8080/"
        },
        "id": "z9F76Od4y6K6",
        "outputId": "1a73c118-236a-4c1f-eae2-04d10de36b2d"
      },
      "outputs": [
        {
          "output_type": "stream",
          "name": "stdout",
          "text": [
            "[ 5.34e-04  3.11e-02  5.04e-03 -9.18e-02 -8.36e-03 -1.66e-01  3.93e-02\n",
            "  2.98e-02  1.70e-01 -2.04e-01  2.41e-01 -3.05e-01 -2.25e-02 -3.71e-01\n",
            " -5.62e-02  1.51e-01 -1.22e-01  3.42e-01  3.05e-02 -2.95e-01  6.54e-02\n",
            " -9.28e-02  1.49e-01  8.15e-02 -6.93e-02  1.98e-01 -1.66e-01  2.00e-01\n",
            "  1.17e-01 -3.69e-01 -2.48e-01  1.26e-01  3.59e-01  1.51e-01 -7.76e-02\n",
            "  2.91e-01 -1.75e-02 -1.21e-01 -1.00e-01  1.44e-01  5.92e-03  2.36e-02\n",
            "  3.20e-01  1.83e-01  9.52e-02  9.23e-02  8.30e-02 -1.34e-01  9.57e-02\n",
            "  1.67e-01  1.88e-02 -2.80e-02 -1.03e-02  1.12e-01 -8.11e-02  1.80e-01\n",
            "  8.35e-02 -5.91e-02  1.71e-01  1.68e-02  8.74e-02  9.03e-02  9.23e-02\n",
            " -9.77e-02 -2.39e-02 -2.07e-01 -1.21e-02  1.45e-01  6.20e-02 -1.44e-02\n",
            "  2.81e-01  6.84e-02 -2.13e-01  4.69e-02 -1.00e-01 -1.36e-01  7.47e-02\n",
            " -2.70e-01  7.57e-02 -5.52e-02 -2.01e-02 -3.81e-01  1.68e-01 -3.91e-01\n",
            "  5.54e-02  2.24e-01 -6.29e-03  7.76e-02  2.03e-01 -1.05e-01 -3.12e-02\n",
            "  3.54e-01  1.54e-01 -1.26e-01 -2.25e-02 -3.81e-01  3.12e-01  2.13e-01\n",
            "  1.97e-01 -4.49e-01 -9.23e-02 -2.95e-01  2.22e-01 -2.59e-02  1.39e-01\n",
            "  7.37e-02 -1.11e-01 -3.01e-01  1.30e-01 -1.75e-01  1.38e-02  7.52e-02\n",
            "  2.99e-01 -7.62e-02  9.77e-02 -2.54e-01 -8.69e-02 -9.86e-02 -4.49e-02\n",
            "  1.01e-01 -1.69e-01  1.07e-01 -1.08e-01 -3.57e-01 -3.59e-02 -3.25e-02\n",
            "  1.62e-01 -1.17e-01 -1.49e-01  2.32e-02 -4.14e-01  2.86e-02 -2.58e-01\n",
            " -6.59e-02 -4.81e-02 -1.88e-01  5.10e-02  7.86e-02 -7.57e-02  3.20e-01\n",
            "  7.08e-02 -1.09e-01 -3.04e-02  1.53e-01  8.94e-02  8.84e-02 -2.01e-02\n",
            " -1.67e-01 -8.89e-02  7.20e-03  4.88e-01  7.67e-02  6.69e-02 -4.35e-02\n",
            " -2.41e-01 -9.72e-02  7.47e-02 -3.24e-01 -3.14e-01 -8.74e-02 -8.20e-02\n",
            "  2.33e-02  2.56e-01 -1.06e-01  1.14e-01 -4.71e-02 -4.83e-02 -4.32e-01\n",
            "  3.42e-02  1.66e-02 -6.01e-02 -1.83e-01 -3.56e-02 -8.59e-02 -5.88e-02\n",
            "  1.20e-01  1.34e-01 -3.74e-02 -1.80e-01  8.59e-02 -2.64e-01 -3.37e-02\n",
            " -2.22e-02  9.52e-02  1.05e-01 -1.63e-01  2.66e-01  1.78e-01 -2.37e-01\n",
            "  1.58e-01 -4.00e-02 -5.71e-02  1.51e-01  1.52e-01  2.71e-01 -2.14e-01\n",
            "  1.82e-02 -4.98e-02 -2.66e-01 -1.05e-01  4.98e-02 -5.55e-01 -2.91e-01\n",
            " -9.62e-02 -9.52e-02 -4.17e-02 -2.58e-01 -6.25e-02  9.38e-02 -2.10e-02\n",
            " -2.48e-01  4.52e-02  1.56e-01 -1.75e-01 -1.38e-01  1.54e-01 -3.95e-01\n",
            " -1.67e-01  2.07e-01  1.55e-01  2.09e-01  2.70e-01  3.26e-01 -1.24e-01\n",
            "  1.65e-02 -5.05e-02  3.11e-01 -3.25e-02  3.42e-01 -9.96e-02  4.15e-02\n",
            " -3.07e-01  4.83e-02  2.08e-01 -4.10e-01 -7.23e-02  1.10e-01 -2.68e-01\n",
            "  2.29e-01 -1.02e-01  1.84e-01 -2.44e-01  2.22e-01  2.01e-01  3.11e-01\n",
            " -2.15e-01 -3.42e-02  2.58e-01  2.54e-02  7.67e-02 -1.18e-01  2.41e-01\n",
            " -9.62e-02 -1.17e-01 -8.35e-02  2.37e-01 -1.11e-01  6.74e-02 -4.36e-01\n",
            " -3.33e-03 -1.28e-01 -6.53e-03  2.72e-02  2.83e-01 -4.20e-02  8.01e-02\n",
            "  1.13e-01 -2.73e-01 -2.64e-01  2.04e-01 -8.54e-02  1.91e-03 -2.04e-01\n",
            "  6.84e-02 -6.54e-02 -1.36e-01 -2.58e-02 -3.96e-01 -2.94e-02  4.34e-01\n",
            "  6.03e-02  3.42e-03  1.75e-01  6.45e-02 -3.98e-02 -7.32e-02 -1.50e-01\n",
            "  2.56e-02  2.91e-01  2.62e-01 -2.32e-01  1.14e-01 -2.54e-01  1.76e-01\n",
            "  1.89e-01  2.66e-01  1.66e-01  2.85e-01 -1.63e-01  6.08e-02]\n"
          ]
        }
      ],
      "source": [
        "print(wv['horse'])"
      ]
    },
    {
      "cell_type": "markdown",
      "metadata": {
        "id": "5CMsyfVXy6K7"
      },
      "source": [
        "Word embeddings contain mathematical representations of the underlying meaning of words. As every embedding is in the same dimensions, you can utilize linear algebra to look inside how the model thinks.\n",
        "Try playing around with a few words and methods to investigate how the model views language."
      ]
    },
    {
      "cell_type": "code",
      "execution_count": null,
      "metadata": {
        "colab": {
          "base_uri": "https://localhost:8080/"
        },
        "id": "d7ZGEIi0y6K7",
        "outputId": "0dde76aa-3bf5-4b76-9d2c-032187c1ffed"
      },
      "outputs": [
        {
          "output_type": "stream",
          "name": "stdout",
          "text": [
            "0.12812498\n"
          ]
        }
      ],
      "source": [
        "#king = wv.most_similar(\"king\")\n",
        "dist = wv.similarity(\"king\",\"dog\")\n",
        "#print(king)\n",
        "print(dist)"
      ]
    },
    {
      "cell_type": "markdown",
      "metadata": {
        "id": "B8GM08vwy6K7"
      },
      "source": [
        "There is a famous example of embedding maths that goes \"king\" - \"man\" + \"woman\" = \"queen\". This example, and embedding maths in general, utilize the fact that embeddings are just vectors in a high dimenionsal vector space, and certain features of language tend to exist along certain axises and cluster together with similar words. We would thus expect king to have a presence in the \"royalty\"-axis, and in the \"man\"-axis. Removing man and adding woman should thus result in \"royalty\" + \"woman\", in other words a queen. See if you can find any other examples where semantic mathematics work, or an example where it clearly doesn't work. Do the results make sense to you?"
      ]
    },
    {
      "cell_type": "code",
      "execution_count": null,
      "metadata": {
        "id": "zj7dx-11y6K7"
      },
      "outputs": [],
      "source": [
        "print(wv.similar_by_vector(wv['king']))\n",
        "print(\"\")\n",
        "similars = wv.similar_by_vector(wv['king']-wv['man']+wv['woman']-wv['boy']+wv['girl'])\n",
        "print(similars)\n",
        "\n",
        "similars[0]"
      ]
    },
    {
      "cell_type": "markdown",
      "metadata": {
        "id": "veys6gmly6K7"
      },
      "source": [
        "You might be interested in investigating the vocabulary of your model"
      ]
    },
    {
      "cell_type": "code",
      "execution_count": null,
      "metadata": {
        "id": "Hk0mx4jTy6K7"
      },
      "outputs": [],
      "source": [
        "nr_of_words = 10\n",
        "for i in range(nr_of_words):\n",
        "    word = wv.index_to_key[i]\n",
        "    index = wv.key_to_index[word]\n",
        "    print(word)"
      ]
    },
    {
      "cell_type": "markdown",
      "metadata": {
        "id": "ae9FRrjuy6K8"
      },
      "source": [
        "### Training a FFNN with w2v\n",
        "\n",
        "\n",
        "We want to train a network using our pretrained embeddings. To do this, we utilize the task and code from the AGnews-prediction with BoW, but modify it to suit our w2v-embeddings.\n",
        "First we create the dataset."
      ]
    },
    {
      "cell_type": "code",
      "execution_count": null,
      "metadata": {
        "id": "v-HavOK7y6K8"
      },
      "outputs": [],
      "source": [
        "# We create our own dataset to load the w2v embedded texts\n",
        "class w2vDataset(torch.utils.data.Dataset):\n",
        "    def __init__(self, dataset, embedder):\n",
        "        self.dataset = dataset\n",
        "        self.embedder = embedder\n",
        "\n",
        "    def __getitem__(self, index):\n",
        "        return self.dataset[index][0], self.embedder(self.dataset[index][1], 300)\n",
        "\n",
        "    def __len__(self):\n",
        "        return len(self.dataset)"
      ]
    },
    {
      "cell_type": "markdown",
      "metadata": {
        "id": "rHAfjoXmy6K8"
      },
      "source": [
        "Then we create an embedder that encodes every word using our w2v encoder (wv.get_vector(token)).\n",
        "Compared to when we used a BoW-encoder, we now face two issues: out of vocabulary (OOV) words and varying sentence length.\n",
        "\n",
        "**Exercise 3.1:** Create a w2v-embedder using our pre-trained w2v model. <br>\n",
        "**Exercise 3.1.1:** Describe three possible ways to deal with OOV-words and varying sentence length. What are the benefits and drawbacks of the methods you have described? <br>\n",
        "**Exercise 3.1.2:** Implement one of these methods for OOV and varying input length to make training of a FFNN possible (your methods do not have to be good, just compileable). <br>\n",
        "**Hint:** <br>\n",
        "for x in range(len(tokens)): <br>\n",
        "    try: <br>\n",
        "    except:"
      ]
    },
    {
      "cell_type": "code",
      "execution_count": null,
      "metadata": {
        "id": "kMRUBe8gy6K8"
      },
      "outputs": [],
      "source": [
        "def w2v_embedder(tensor, embedding_length):\n",
        "    '''\n",
        "    Takes a tensor and a embedding length and returns the w2v embedding of that tensor\n",
        "    Args:\n",
        "        tensor (torch.Tensor): A tensor of words represented by their index in the vocabulary\n",
        "        embedding_length (int): The length of the embedding\n",
        "    Returns (torch.Tensor): An tensor containing the w2v embedding of the input tensor\n",
        "    '''\n",
        "    ## ADD CODE HERE\n",
        "    ...\n",
        "    tensor = tensor.long()\n",
        "    #len(tensor)\n",
        "    # Initate your embedding\n",
        "    embedding = torch.zeros(embedding_length)\n",
        "    # How do we get words from our tensor?\n",
        "    words = tensor2text(tensor)\n",
        "    # How do we get tokens from our words?\n",
        "    tokens = simple_tokenizer(words)\n",
        "    #print(words)\n",
        "    # What do we loop over?\n",
        "    for x,i in enumerate(tokens):\n",
        "        # How do we handle OOV?\n",
        "        #Ignore words completely - easy to implement quick to run, throwing away lots of data\n",
        "        #Some sort of auto correction - harder to implement, more costly to run, could potentially be wrong, but hopefully\n",
        "        #most of the time it can salvage the mistyped word.\n",
        "        #Use some sort of token for unknown words - much like first option, but here hopefullly we get to keep the context\n",
        "        #of a word existing in the empty spot as opposed to just ignoring it ever beigng there.\n",
        "        #Varying sentence length\n",
        "        #After a lot of thinking we don't think that there is a reasonable way to deal with this in this situation\n",
        "        #Our bad suggestions are\n",
        "        #Just using a word - we are using the last word in the sentence, it is what it is\n",
        "        #Averaging out all of the vectors - maybe by averaging out every value of every vector, we could at least keep every word in the sentence.\n",
        "        #this probably stilll wouldn't be very good, so we didn't implement it.\n",
        "        try:\n",
        "            #print(x)\n",
        "            # Use wv.get_vector(word) to find the w2v-embedding of a word\n",
        "            wv_embedding = wv.get_vector(i)\n",
        "            #Store the embedding in your input vector\n",
        "            embedding = torch.from_numpy(wv_embedding)\n",
        "            #print(embedding.size())\n",
        "        except:\n",
        "            pass\n",
        "               #print(f'OOV{i}')\n",
        "    return embedding\n"
      ]
    },
    {
      "cell_type": "markdown",
      "metadata": {
        "id": "EgnBDYwhy6K8"
      },
      "source": [
        "Then we design and train a network\n",
        "\n",
        "**Exercise 3.2:** Build a model that takes w2v-ecnodings of the AG-NEWS dataset as inputs and outputs AG-NEWS classes. The network might not converge towards good performance depending on your solutions to 3.1. Why?\n",
        "\n",
        "**Hint:** Recall the BoW-classifier that we implemented and reuse that structure. <br>\n",
        "Your performance might be really bad (25% accuracy). This is OK and will be amended below."
      ]
    },
    {
      "cell_type": "code",
      "execution_count": null,
      "metadata": {
        "colab": {
          "base_uri": "https://localhost:8080/"
        },
        "id": "IUo9WF7Ky6K9",
        "outputId": "714dee32-6d84-42dc-fe8e-069278931a82"
      },
      "outputs": [
        {
          "output_type": "stream",
          "name": "stdout",
          "text": [
            "Epoch 1 [120/120] - Loss: 1.0656659603118896"
          ]
        }
      ],
      "source": [
        "w2v_train_data = w2vDataset(ag_train, w2v_embedder)\n",
        "w2v_test_data = w2vDataset(ag_test, w2v_embedder)\n",
        "w2v_trainloader = DataLoader(w2v_train_data, batch_size=1000, shuffle=True)\n",
        "w2v_testloader = DataLoader(w2v_test_data, batch_size=1000, shuffle=False)\n",
        "\n",
        "embedding_length = 300\n",
        "\n",
        "\n",
        "## CREATE A NEURAL NETWORK TO TRAIN\n",
        "network = nn.Sequential(\n",
        "    nn.Linear(300,50),\n",
        "    nn.ReLU(),\n",
        "    nn.Linear(50,4)\n",
        ")\n",
        "\n",
        "\n",
        "optimizer = torch.optim.Adam(network.parameters())\n",
        "\n",
        "loss_function = nn.CrossEntropyLoss()\n",
        "\n",
        "epochs = 1\n",
        "\n",
        "\n",
        "for epoch in range(epochs):\n",
        "    # For each batch of data (since the dataset is too large to run all data through the network at once)\n",
        "    for batch_nr, (labels, data) in enumerate(w2v_trainloader):\n",
        "       ## WRITE TRAINING CODE HERE\n",
        "       #...\n",
        "        # Predict for each BoW represented text in the batch what class they belong to\n",
        "        prediction = network(data)\n",
        "        # Calculate the loss of the prediction by comparing to the expected output\n",
        "        #print(labels)\n",
        "        #print(prediction.size())\n",
        "        loss = loss_function(prediction,labels)\n",
        "        # Backpropagate the loss through the network to find the gradients of all parameters\n",
        "        loss.backward()\n",
        "        # Update the parameters along their gradients\n",
        "        optimizer.step()\n",
        "        # Clear stored gradient values\n",
        "        optimizer.zero_grad()\n",
        "        #Print the epoch, batch, and loss\n",
        "        print(\n",
        "            f'\\rEpoch {epoch+1} [{batch_nr+1}/{len(w2v_trainloader)}] - Loss: {loss}',\n",
        "            end=''\n",
        "        )\n",
        "\n"
      ]
    },
    {
      "cell_type": "markdown",
      "metadata": {
        "id": "i0AC6lnTy6K9"
      },
      "source": [
        "**Exercise 3.3:** Let's once again calculate accuracy and the confusion matrix."
      ]
    },
    {
      "cell_type": "code",
      "execution_count": null,
      "metadata": {
        "colab": {
          "base_uri": "https://localhost:8080/"
        },
        "id": "LlVBZgM-y6K9",
        "outputId": "8ee97255-8ca6-4e67-eced-31e441074349"
      },
      "outputs": [
        {
          "output_type": "stream",
          "name": "stdout",
          "text": [
            "The accuracy of the network is 52.5%.\n"
          ]
        }
      ],
      "source": [
        "with torch.no_grad():\n",
        "    classes = [0, 1, 2, 3]\n",
        "    correct = 0\n",
        "    total = 0\n",
        "    y_pred = []\n",
        "    y_true = []\n",
        "    # For each batch of testing data (since the dataset is too large to run all data through the network at once)\n",
        "    # Calculate the accuracy, precision and recall\n",
        "    for batch_nr, (labels, data) in enumerate(w2v_testloader):\n",
        "        ## WRITE THE TESTING CODE HERE\n",
        "        prediction = network(data)\n",
        "        for i,pred in enumerate(prediction):\n",
        "            pred = torch.argmax(pred)\n",
        "            y_pred.append(pred)\n",
        "            y_true.append(labels[i])\n",
        "            if pred==labels[i]:\n",
        "                correct += 1\n",
        "            total += 1\n",
        "\n",
        "    print(f'The accuracy of the network is {str(100*correct/total)[:4]}%.')"
      ]
    },
    {
      "cell_type": "code",
      "execution_count": null,
      "metadata": {
        "colab": {
          "base_uri": "https://localhost:8080/",
          "height": 384
        },
        "id": "_bGTGjr1y6K9",
        "outputId": "ecd7a5a0-a0c8-4ba5-84a4-8ea262d60f45"
      },
      "outputs": [
        {
          "output_type": "stream",
          "name": "stdout",
          "text": [
            "Confusion matrix, without normalization\n",
            "[[ 988  343  364  205]\n",
            " [ 251 1190  275  184]\n",
            " [ 299  295  996  310]\n",
            " [ 300  318  459  823]]\n"
          ]
        },
        {
          "output_type": "display_data",
          "data": {
            "image/png": "[encoded data removed]",
            "text/plain": [
              "<Figure size 432x288 with 2 Axes>"
            ]
          },
          "metadata": {
            "needs_background": "light"
          }
        }
      ],
      "source": [
        "cnf_matrix = confusion_matrix(y_true, y_pred,labels=[0, 1, 2, 3])\n",
        "numpy.set_printoptions(precision=2)\n",
        "\n",
        "# Plot non-normalized confusion matrix\n",
        "plt.figure()\n",
        "plot_confusion_matrix(cnf_matrix, classes=['World', 'Sports', 'Business', 'Sci/Tec'],\n",
        "                      title='Confusion matrix, without normalization')"
      ]
    },
    {
      "cell_type": "markdown",
      "metadata": {
        "id": "BeIgBOs6y6K-"
      },
      "source": [
        "Let us also investigate how the pretrained embeddings separate the animals, actions and furnitures from our initial corpus. You can also insert any words from the word2vec corpus (wv.vocab) here and see how they are projected in a 2D-space using PCA."
      ]
    },
    {
      "cell_type": "code",
      "execution_count": null,
      "metadata": {
        "colab": {
          "base_uri": "https://localhost:8080/",
          "height": 581
        },
        "id": "L6aclojQy6K-",
        "outputId": "9588d6b0-3c78-4f58-dbc0-80a60e124606"
      },
      "outputs": [
        {
          "output_type": "stream",
          "name": "stdout",
          "text": [
            "The embeddings if all words in the vocabulary\n",
            "[[ 0.08  0.1   0.05 ...  0.    0.05 -0.07]\n",
            " [ 0.01  0.2  -0.29 ...  0.49 -0.28  0.06]\n",
            " [ 0.2   0.08  0.15 ... -0.04  0.17 -0.01]\n",
            " ...\n",
            " [-0.09 -0.1  -0.49 ...  0.02  0.08  0.  ]\n",
            " [ 0.    0.35 -0.32 ...  0.35 -0.1   0.23]\n",
            " [-0.06  0.14 -0.34 ...  0.15 -0.01  0.17]]\n"
          ]
        },
        {
          "output_type": "display_data",
          "data": {
            "image/png": "[encoded data removed]",
            "text/plain": [
              "<Figure size 1440x720 with 1 Axes>"
            ]
          },
          "metadata": {
            "needs_background": "light"
          }
        }
      ],
      "source": [
        "#%matplotlib inline\n",
        "from sklearn.decomposition import PCA\n",
        "from matplotlib import pyplot as plt\n",
        "\n",
        "numpy_word_vectors = numpy.zeros([18,300])\n",
        "\n",
        "category_colors = {'animals' : 'green',\n",
        "                   'actions' : 'blue',\n",
        "                   'furniture' : 'yellow'}\n",
        "\n",
        "colors = []\n",
        "for i in range(vocabulary_size):\n",
        "    colors.append('red')\n",
        "\n",
        "for word in animal_vocab.index2token:\n",
        "    index = animal_vocab.get_index(word)\n",
        "    numpy_word_vectors[index,:] = wv[word]\n",
        "    if word in animals:\n",
        "        colors[index] = category_colors['animals']\n",
        "    elif word in actions:\n",
        "        colors[index] = category_colors['actions']\n",
        "    elif word in furniture:\n",
        "        colors[index] = category_colors['furniture']\n",
        "\n",
        "# Plots embeddings using PCA (you don't need to understand it)\n",
        "def plot_embeddings_after_pca(vectors):\n",
        "        \"\"\"\n",
        "        Perform PCA and plot the resulting 2 components on X and Y axis\n",
        "        Args:\n",
        "          embedding_weights - the set of vectors to\n",
        "        \"\"\"\n",
        "        pca = PCA(n_components=2)\n",
        "        vectors_pca = pca.fit_transform(vectors)\n",
        "        plt.figure(figsize=(20,10))\n",
        "\n",
        "        # We do not draw the first element, which is the 'Out-of-Vocabulary' token\n",
        "        plt.scatter(vectors_pca[:,0], vectors_pca[:,1], c=colors, s=100, alpha=0.3);\n",
        "        plt.title('Embeddings after PCA')\n",
        "        legend_elements = [\n",
        "                    plt.Line2D([0], [0], marker='o', color=category_colors['animals'], label='Animals'),\n",
        "                    plt.Line2D([0], [0], marker='o', color=category_colors['actions'], label='Actions'),\n",
        "                    plt.Line2D([0], [0], marker='o', color=category_colors['furniture'], label='Furniture'),\n",
        "                    plt.Line2D([0], [0], marker='o', color='red', label='Other'),\n",
        "                  ]\n",
        "\n",
        "        # Create the figure\n",
        "        plt.legend(handles=legend_elements);\n",
        "\n",
        "# Extracting the embeddings for every word in the vocabulary, detaching them from PyTorch, and turning them into numpy\n",
        "\n",
        "\n",
        "print('The embeddings if all words in the vocabulary')\n",
        "print(numpy_word_vectors)\n",
        "\n",
        "# Display the most significant axes of the word vectors using PCA\n",
        "plot_embeddings_after_pca(numpy_word_vectors)"
      ]
    },
    {
      "cell_type": "markdown",
      "metadata": {
        "id": "LUYKMMEiy6K_"
      },
      "source": [
        "We see that despite spanning 300 million words, animals, actions and furnitures are all separated by the model, with animals being the most spread out of the three."
      ]
    },
    {
      "cell_type": "markdown",
      "metadata": {
        "id": "kSidHr-Zy6K_"
      },
      "source": [
        "## 4. Recurrent Neural Networks\n",
        "\n",
        "As a final task, let us use embeddings where they are really matter, in recurrent neural networks (RNNs) (or Transformers, but that's a topic for another course). RNNs are covered in the first lecture in ANN3, but consider this a teaser where you don't yet need to understand the inner workings of the black box.\n",
        "\n",
        "<a title=\"fdeloche, CC BY-SA 4.0 &lt;https://creativecommons.org/licenses/by-sa/4.0&gt;, via Wikimedia Commons\" href=\"https://commons.wikimedia.org/wiki/File:Recurrent_neural_network_unfold.svg\"><img width=\"512\" alt=\"Recurrent neural network unfold\" src=\"https://upload.wikimedia.org/wikipedia/commons/thumb/b/b5/Recurrent_neural_network_unfold.svg/512px-Recurrent_neural_network_unfold.svg.png\"></a>\n",
        "\n",
        "RNNs have a major benefit in that they can use input sequences of any length in the same network. When using BoW, our encodings collapsed to the same dimensions, but with w2v we faced the challenge of having varying input dimensions. In RNNs, our input is fed sequentially to the network together with the previous network output. After our first input token is transformed to a prediction, this prediction is fed to the same network together with the next token, until all tokens have been seen. Thus, regardless of if our input sequence is one word or 100 words, the network size remains the same (but for 100 words we will have to backprop 100 times through the network to train it. What issues might this cause?).\n",
        "\n",
        "We shall now implement another w2v embedder, this time maintaining the sequential structure of our data. But first, let's make a third dataset class.\n"
      ]
    },
    {
      "cell_type": "code",
      "execution_count": null,
      "metadata": {
        "id": "E28ugxwRy6K_"
      },
      "outputs": [],
      "source": [
        "# We create our own dataset to load the w2v embedded texts\n",
        "class rnnDataset(torch.utils.data.Dataset):\n",
        "    def __init__(self, dataset, embedder):\n",
        "        self.dataset = dataset\n",
        "        self.embedder = embedder\n",
        "\n",
        "    def __getitem__(self, index):\n",
        "        return self.dataset[index][0], self.embedder(self.dataset[index][1], 300)\n",
        "\n",
        "    def __len__(self):\n",
        "        return len(self.dataset)"
      ]
    },
    {
      "cell_type": "markdown",
      "metadata": {
        "id": "BcHiHuLPy6K_"
      },
      "source": [
        "**Exercise 4.1:** Implement an emedder for rnnDataset which takes an input tensor, transforms it to words->tokens->embeddings, then stores the embeddings while maintainin the structural integrity of the original sentences. <br>\n",
        "**Hint:** The embedder should be quite similar to w2v-embedder. Consider using numpy.shape() to investigate the shape of your dataset and remember that you can go from list to numpy.array with numpy.asarray()"
      ]
    },
    {
      "cell_type": "code",
      "execution_count": null,
      "metadata": {
        "id": "gbTWqJtzy6K_"
      },
      "outputs": [],
      "source": [
        "def rnn_embedder(tensor, embedding_length):\n",
        "    tensor = tensor.long()\n",
        "    embedding = []\n",
        "    words = tensor2text(tensor)\n",
        "    tokens = simple_tokenizer(words)\n",
        "\n",
        "    for x,i in enumerate(tokens):\n",
        "      try:\n",
        "        wv_embedding = wv.get_vector(i)\n",
        "        embedding.append(wv_embedding)\n",
        "      except:\n",
        "        pass\n",
        "    embedding = numpy.asarray(embedding)\n",
        "    numpy.shape(embedding)\n",
        "    return torch.from_numpy(embedding)\n",
        ""
      ]
    },
    {
      "cell_type": "markdown",
      "metadata": {
        "id": "T8c1jrsoy6K_"
      },
      "source": [
        "We shall now design an LSTM network. When implementing machine learning models, one often has to consult the root documentation. Let us therefore go to https://pytorch.org/docs/stable/generated/torch.nn.LSTM.html to study the input, hidden and output sizes of the torch.nn.LSTM class.\n",
        "\n",
        "**Exercise 4.2:** Finish the implementation of our LSTM network class. <br>\n",
        "**Hint:** Don't miss the batch_first=True command when looking at batch size or sequence length first. <br>\n",
        "Defining the init and the forward"
      ]
    },
    {
      "cell_type": "code",
      "execution_count": null,
      "metadata": {
        "id": "1PGvY2iRy6K_"
      },
      "outputs": [],
      "source": [
        "from torch.autograd import Variable\n",
        "\n",
        "class LSTM1(nn.Module):\n",
        "    def __init__(self, num_classes, input_size, hidden_size, num_layers, seq_length):\n",
        "        super(LSTM1, self).__init__()\n",
        "        self.num_classes = num_classes #nr of classes\n",
        "        self.num_layers = num_layers #nr of layers\n",
        "        self.input_size = input_size #input size\n",
        "        self.hidden_size = hidden_size #hidden state\n",
        "        self.seq_length = seq_length #sequence length\n",
        "\n",
        "        ## TASK: Insert the correct dimensions for our LSTM and FC layers\n",
        "        self.lstm = nn.LSTM(300,200, batch_first = True) # LSTM layer\n",
        "        self.fc_1 =  nn.Linear(200,100) #fFirst FC layer\n",
        "        self.fc = nn.Linear(100,4) # Final FC layer\n",
        "\n",
        "        self.relu = nn.ReLU()\n",
        "\n",
        "    def forward(self,x):\n",
        "        h_0 = Variable(torch.zeros(1,1,200)) #hidden state\n",
        "        c_0 = Variable(torch.zeros(1,1,200)) #internal state\n",
        "\n",
        "        # Propagate input through LSTM\n",
        "        output, (hn, cn) = self.lstm(x, (h_0, c_0)) #lstm with input, hidden, and internal state\n",
        "        hn = hn.view(-1, self.hidden_size) #reshaping the data for Dense layer next\n",
        "        out = self.relu(hn)\n",
        "        out = self.fc_1(out) #first Dense\n",
        "        out = self.relu(out) #relu\n",
        "        out = self.fc(out) #Final Output\n",
        "        return out\n"
      ]
    },
    {
      "cell_type": "code",
      "execution_count": null,
      "metadata": {
        "id": "BEidOk3Dy6LA"
      },
      "outputs": [],
      "source": [
        "num_epochs = 3 #1 epochs\n",
        "learning_rate = 0.001 #0.01 lr\n",
        "\n",
        "\n",
        "input_size = 300 #number of features\n",
        "hidden_size = 200 #number of features in hidden state\n",
        "num_layers = 3 #number of stacked lstm layers\n",
        "sequence_length = 1\n",
        "num_classes = 4\n",
        "device=torch.device('cpu')\n",
        "\n",
        "lstm1 = LSTM1(num_classes=num_classes, input_size=input_size, hidden_size=hidden_size,\n",
        "              num_layers=num_layers, seq_length=sequence_length) #our lstm class"
      ]
    },
    {
      "cell_type": "markdown",
      "metadata": {
        "id": "0tzZZ14Qy6LA"
      },
      "source": [
        "Using our LSTM class and RNN dataloader, let's train out network and see how well it works.\n",
        "\n",
        "**Exercise 4.3:** Train the network to reach an accuracy of over 90%. <br>\n",
        "**Hint:** Consider starting with batch size = 1 or else data will have multiple sequence lengths. <br>\n",
        "Use torch.from_numpy to convert a numpy array to torch"
      ]
    },
    {
      "cell_type": "code",
      "execution_count": null,
      "metadata": {
        "colab": {
          "base_uri": "https://localhost:8080/",
          "height": 432
        },
        "id": "HBXok8Mmy6LA",
        "outputId": "86ac568f-4043-4a9e-bcaa-6229be74f3d4"
      },
      "outputs": [
        {
          "output_type": "stream",
          "name": "stdout",
          "text": [
            "120000\n",
            "Epoch 1 [24042/120000] - Loss: 0.04604226350784302"
          ]
        },
        {
          "output_type": "error",
          "ename": "KeyboardInterrupt",
          "evalue": "ignored",
          "traceback": [
            "\u001b[0;31m---------------------------------------------------------------------------\u001b[0m",
            "\u001b[0;31mKeyboardInterrupt\u001b[0m                         Traceback (most recent call last)",
            "\u001b[0;32m<ipython-input-333-4728640dd508>\u001b[0m in \u001b[0;36m<module>\u001b[0;34m()\u001b[0m\n\u001b[1;32m     21\u001b[0m         \u001b[0mloss\u001b[0m \u001b[0;34m=\u001b[0m \u001b[0mloss_function\u001b[0m\u001b[0;34m(\u001b[0m\u001b[0mprediction\u001b[0m\u001b[0;34m,\u001b[0m\u001b[0mlabels\u001b[0m\u001b[0;34m)\u001b[0m\u001b[0;34m\u001b[0m\u001b[0;34m\u001b[0m\u001b[0m\n\u001b[1;32m     22\u001b[0m         \u001b[0;31m# Backpropagate the loss through the network to find the gradients of all parameters\u001b[0m\u001b[0;34m\u001b[0m\u001b[0;34m\u001b[0m\u001b[0;34m\u001b[0m\u001b[0m\n\u001b[0;32m---> 23\u001b[0;31m         \u001b[0mloss\u001b[0m\u001b[0;34m.\u001b[0m\u001b[0mbackward\u001b[0m\u001b[0;34m(\u001b[0m\u001b[0;34m)\u001b[0m\u001b[0;34m\u001b[0m\u001b[0;34m\u001b[0m\u001b[0m\n\u001b[0m\u001b[1;32m     24\u001b[0m         \u001b[0;31m# Update the parameters along their gradients\u001b[0m\u001b[0;34m\u001b[0m\u001b[0;34m\u001b[0m\u001b[0;34m\u001b[0m\u001b[0m\n\u001b[1;32m     25\u001b[0m         \u001b[0moptimizer\u001b[0m\u001b[0;34m.\u001b[0m\u001b[0mstep\u001b[0m\u001b[0;34m(\u001b[0m\u001b[0;34m)\u001b[0m\u001b[0;34m\u001b[0m\u001b[0;34m\u001b[0m\u001b[0m\n",
            "\u001b[0;32m/usr/local/lib/python3.7/dist-packages/torch/tensor.py\u001b[0m in \u001b[0;36mbackward\u001b[0;34m(self, gradient, retain_graph, create_graph)\u001b[0m\n\u001b[1;32m    219\u001b[0m                 \u001b[0mretain_graph\u001b[0m\u001b[0;34m=\u001b[0m\u001b[0mretain_graph\u001b[0m\u001b[0;34m,\u001b[0m\u001b[0;34m\u001b[0m\u001b[0;34m\u001b[0m\u001b[0m\n\u001b[1;32m    220\u001b[0m                 create_graph=create_graph)\n\u001b[0;32m--> 221\u001b[0;31m         \u001b[0mtorch\u001b[0m\u001b[0;34m.\u001b[0m\u001b[0mautograd\u001b[0m\u001b[0;34m.\u001b[0m\u001b[0mbackward\u001b[0m\u001b[0;34m(\u001b[0m\u001b[0mself\u001b[0m\u001b[0;34m,\u001b[0m \u001b[0mgradient\u001b[0m\u001b[0;34m,\u001b[0m \u001b[0mretain_graph\u001b[0m\u001b[0;34m,\u001b[0m \u001b[0mcreate_graph\u001b[0m\u001b[0;34m)\u001b[0m\u001b[0;34m\u001b[0m\u001b[0;34m\u001b[0m\u001b[0m\n\u001b[0m\u001b[1;32m    222\u001b[0m \u001b[0;34m\u001b[0m\u001b[0m\n\u001b[1;32m    223\u001b[0m     \u001b[0;32mdef\u001b[0m \u001b[0mregister_hook\u001b[0m\u001b[0;34m(\u001b[0m\u001b[0mself\u001b[0m\u001b[0;34m,\u001b[0m \u001b[0mhook\u001b[0m\u001b[0;34m)\u001b[0m\u001b[0;34m:\u001b[0m\u001b[0;34m\u001b[0m\u001b[0;34m\u001b[0m\u001b[0m\n",
            "\u001b[0;32m/usr/local/lib/python3.7/dist-packages/torch/autograd/__init__.py\u001b[0m in \u001b[0;36mbackward\u001b[0;34m(tensors, grad_tensors, retain_graph, create_graph, grad_variables)\u001b[0m\n\u001b[1;32m    130\u001b[0m     Variable._execution_engine.run_backward(\n\u001b[1;32m    131\u001b[0m         \u001b[0mtensors\u001b[0m\u001b[0;34m,\u001b[0m \u001b[0mgrad_tensors_\u001b[0m\u001b[0;34m,\u001b[0m \u001b[0mretain_graph\u001b[0m\u001b[0;34m,\u001b[0m \u001b[0mcreate_graph\u001b[0m\u001b[0;34m,\u001b[0m\u001b[0;34m\u001b[0m\u001b[0;34m\u001b[0m\u001b[0m\n\u001b[0;32m--> 132\u001b[0;31m         allow_unreachable=True)  # allow_unreachable flag\n\u001b[0m\u001b[1;32m    133\u001b[0m \u001b[0;34m\u001b[0m\u001b[0m\n\u001b[1;32m    134\u001b[0m \u001b[0;34m\u001b[0m\u001b[0m\n",
            "\u001b[0;31mKeyboardInterrupt\u001b[0m: "
          ]
        }
      ],
      "source": [
        "optimizer = torch.optim.Adam(lstm1.parameters(), lr=learning_rate)\n",
        "\n",
        "rnn_train_data = rnnDataset(ag_train, rnn_embedder)\n",
        "rnn_test_data = rnnDataset(ag_test, rnn_embedder)\n",
        "rnn_trainloader = DataLoader(rnn_train_data, batch_size=1, shuffle=True)\n",
        "rnn_testloader = DataLoader(rnn_test_data, batch_size=1, shuffle=False)\n",
        "loss_function = nn.CrossEntropyLoss()\n",
        "print(len(rnn_trainloader))\n",
        "\n",
        "for epoch in range(num_epochs):\n",
        "    # For each batch of data (since the dataset is too large to run all data through the network at once)\n",
        "    for batch_nr, (labels, data) in enumerate(rnn_trainloader):\n",
        "       ## WRITE TRAINING CODE HERE\n",
        "       #...\n",
        "        # Predict for each BoW represented text in the batch what class they belong to\n",
        "        #print(data.size())\n",
        "        prediction = lstm1.forward(data)\n",
        "        # Calculate the loss of the prediction by comparing to the expected output\n",
        "        #print(labels)\n",
        "        #print(prediction.size())\n",
        "        loss = loss_function(prediction,labels)\n",
        "        # Backpropagate the loss through the network to find the gradients of all parameters\n",
        "        loss.backward()\n",
        "        # Update the parameters along their gradients\n",
        "        optimizer.step()\n",
        "        # Clear stored gradient values\n",
        "        optimizer.zero_grad()\n",
        "        #Print the epoch, batch, and loss\n",
        "        print(\n",
        "            f'\\rEpoch {epoch+1} [{batch_nr+1}/{len(rnn_trainloader)}] - Loss: {loss}',\n",
        "            end=''\n",
        "        )\n",
        ""
      ]
    },
    {
      "cell_type": "markdown",
      "metadata": {
        "id": "utsTtUQEy6LA"
      },
      "source": [
        "Let's once again calculate accuracy and the confusion matrix.\n",
        "**Exercise 4.4:** Calculate accuracy and confusion matrix. How well does your network perform? What could you do to improve accuracy further (you don't have to implement it)?"
      ]
    },
    {
      "cell_type": "code",
      "execution_count": null,
      "metadata": {
        "colab": {
          "base_uri": "https://localhost:8080/"
        },
        "id": "bl8ZT4c8y6LA",
        "outputId": "9b765681-5447-4dda-cc8d-97ea4350e4f8"
      },
      "outputs": [
        {
          "output_type": "stream",
          "name": "stdout",
          "text": [
            "The accuracy of the network is 88.9%.\n"
          ]
        }
      ],
      "source": [
        "with torch.no_grad():\n",
        "    classes = [0, 1, 2, 3]\n",
        "    correct = 0\n",
        "    total = 0\n",
        "    y_pred = []\n",
        "    y_true = []\n",
        "    # For each batch of testing data (since the dataset is too large to run all data through the network at once)\n",
        "    # Calculate the accuracy, precision and recall\n",
        "    for batch_nr, (labels, data) in enumerate(rnn_testloader):\n",
        "        prediction = lstm1.forward(data)\n",
        "        for i,pred in enumerate(prediction):\n",
        "            pred = torch.argmax(pred)\n",
        "            y_pred.append(pred)\n",
        "            y_true.append(labels[i])\n",
        "            if pred==labels[i]:\n",
        "                correct += 1\n",
        "            total += 1\n",
        "\n",
        "\n",
        "    print(f'The accuracy of the network is {str(100*correct/total)[:4]}%.')"
      ]
    },
    {
      "cell_type": "code",
      "execution_count": null,
      "metadata": {
        "colab": {
          "base_uri": "https://localhost:8080/",
          "height": 384
        },
        "id": "bsEahcsUy6LA",
        "outputId": "8d54abeb-fed6-47ed-fbcb-eb6a50c72b6e"
      },
      "outputs": [
        {
          "output_type": "stream",
          "name": "stdout",
          "text": [
            "Confusion matrix, without normalization\n",
            "[[1650   65  125   60]\n",
            " [  27 1826   35   12]\n",
            " [  55   11 1604  230]\n",
            " [  69   15  134 1682]]\n"
          ]
        },
        {
          "output_type": "display_data",
          "data": {
            "image/png": "[encoded data removed]",
            "text/plain": [
              "<Figure size 432x288 with 2 Axes>"
            ]
          },
          "metadata": {
            "needs_background": "light"
          }
        }
      ],
      "source": [
        "cnf_matrix = confusion_matrix(y_true, y_pred,labels=[0, 1, 2, 3])\n",
        "numpy.set_printoptions(precision=2)\n",
        "\n",
        "# Plot non-normalized confusion matrix\n",
        "plt.figure()\n",
        "plot_confusion_matrix(cnf_matrix, classes=['World', 'Sports', 'Business', 'Sci/Tec'],\n",
        "                      title='Confusion matrix, without normalization')"
      ]
    },
    {
      "cell_type": "markdown",
      "metadata": {
        "id": "GseI9wfQy6LA"
      },
      "source": [
        "You have now reached the end of exercise 2. Well done!"
      ]
    },
    {
      "cell_type": "code",
      "execution_count": null,
      "metadata": {
        "id": "CUO0Ca9Oy6LB"
      },
      "outputs": [],
      "source": []
    }
  ],
  "metadata": {
    "kernelspec": {
      "display_name": "Python 3 (ipykernel)",
      "language": "python",
      "name": "python3"
    },
    "language_info": {
      "codemirror_mode": {
        "name": "ipython",
        "version": 3
      },
      "file_extension": ".py",
      "mimetype": "text/x-python",
      "name": "python",
      "nbconvert_exporter": "python",
      "pygments_lexer": "ipython3",
      "version": "3.8.12"
    },
    "colab": {
      "provenance": []
    }
  },
  "nbformat": 4,
  "nbformat_minor": 0
}